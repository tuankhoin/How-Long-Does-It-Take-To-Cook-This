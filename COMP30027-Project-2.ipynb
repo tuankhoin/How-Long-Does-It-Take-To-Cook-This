{
 "cells": [
  {
   "cell_type": "markdown",
   "id": "accredited-acrylic",
   "metadata": {},
   "source": [
    "# COMP30027 Machine Learning Assignment 2"
   ]
  },
  {
   "cell_type": "markdown",
   "id": "political-chicken",
   "metadata": {},
   "source": [
    "### Project 2: How long does it take to cook this? \n",
    "**Task:** Build a classifier to predict cooking time of recipes\n",
    "\n",
    "**Author:** Tuan Khoi Nguyen - 1025294. \n",
    "Hai Hong Tran    - 1012919"
   ]
  },
  {
   "cell_type": "code",
   "execution_count": 1,
   "id": "median-prophet",
   "metadata": {},
   "outputs": [],
   "source": [
    "import matplotlib.pyplot as plt\n",
    "import seaborn as sns\n",
    "import scipy\n",
    "import os\n",
    "import pandas as pd\n",
    "import numpy as np\n",
    "import re\n",
    "import time\n",
    "\n",
    "from sklearn.svm import LinearSVC\n",
    "from sklearn.naive_bayes import GaussianNB, MultinomialNB\n",
    "from sklearn.dummy import DummyClassifier\n",
    "from sklearn.tree import DecisionTreeClassifier\n",
    "from sklearn.neighbors import KNeighborsClassifier\n",
    "from sklearn import datasets, svm\n",
    "from sklearn.linear_model import LogisticRegression\n",
    "from sklearn.feature_extraction.text import CountVectorizer, TfidfTransformer\n",
    "from sklearn.feature_selection import SelectPercentile, SelectFpr, chi2, mutual_info_classif\n",
    "from sklearn.model_selection import cross_val_score\n",
    "\n",
    "from tqdm import tqdm,trange\n",
    "from collections import defaultdict,Counter\n",
    "from text2digits import text2digits\n",
    "\n",
    "import warnings\n",
    "from sklearn.exceptions import DataConversionWarning\n",
    "warnings.filterwarnings(action='ignore', category=DataConversionWarning)"
   ]
  },
  {
   "cell_type": "markdown",
   "id": "sonic-amateur",
   "metadata": {},
   "source": [
    "## Part 0: Data preprocessing method selection"
   ]
  },
  {
   "cell_type": "code",
   "execution_count": 49,
   "metadata": {},
   "outputs": [],
   "source": [
    "def preprocess(file, \n",
    "               process = None, \n",
    "               convert_to_seconds = False):\n",
    "    curr_dir = os.path.dirname(os.path.realpath('__file__'))\n",
    "    if not process:\n",
    "        train_file = os.path.join(curr_dir, 'COMP30027_2021_Project2_datasets\\\\'+file)\n",
    "    else:\n",
    "        train_file = os.path.join(curr_dir, 'COMP30027_2021_Project2_datasets\\\\recipe_text_features_' + process + '\\\\' + file)\n",
    "\n",
    "    data = pd.read_csv(train_file, index_col = False, delimiter = ',')\n",
    "    if convert_to_seconds:\n",
    "        tqdm.pandas(desc=\"Converting...\")\n",
    "        data['seconds'] = data['steps'].progress_apply(convert_step_to_time)\n",
    "    return data"
   ]
  },
  {
   "cell_type": "code",
   "execution_count": 9,
   "id": "absent-joining",
   "metadata": {},
   "outputs": [],
   "source": [
    "def read_npz_file(files_name, use_scipy = True):\n",
    "    file_paths = []\n",
    "    for file_name in files_name:\n",
    "        curr_dir = os.path.dirname(os.path.realpath('__file__'))\n",
    "        file_paths.append(os.path.join(curr_dir, 'COMP30027_2021_Project2_datasets\\\\recipe_text_features_countvec\\\\' , file_name))\n",
    "    \n",
    "    if use_scipy:\n",
    "        names = scipy.sparse.load_npz(file_paths[0])\n",
    "        ingr = scipy.sparse.load_npz(file_paths[1])\n",
    "        steps = scipy.sparse.load_npz(file_paths[2])\n",
    "        return names, ingr, steps\n",
    "    \n",
    "    npz_names = np.load(file_paths[0])\n",
    "    names = pd.DataFrame.from_dict({i: npz_names[i] for i in npz_names.files}, orient='index')\n",
    "\n",
    "    npz_ingr = np.load(file_paths[1])\n",
    "    ingr = pd.DataFrame.from_dict({i: npz_ingr[i] for i in npz_ingr.files}, orient='index')\n",
    "\n",
    "    npz_steps = np.load(file_paths[2])\n",
    "    steps = pd.DataFrame.from_dict({i: npz_steps[i] for i in npz_steps.files}, orient='index')\n",
    "    return names,ingr,steps\n",
    "\n",
    "def read_train_file(preprocess_method, files_name):\n",
    "    file_paths = []\n",
    "    for file_name in files_name:\n",
    "        curr_dir = os.path.dirname(os.path.realpath('__file__'))\n",
    "        file_paths.append(os.path.join(curr_dir, 'COMP30027_2021_Project2_datasets\\\\', preprocess_method, file_name))\n",
    "    \n",
    "    names = pd.read_csv(file_paths[0], index_col = False, delimiter = ',', header=None)\n",
    "    ingr = pd.read_csv(file_paths[1], index_col = False, delimiter = ',', header=None)\n",
    "    steps = pd.read_csv(file_paths[2], index_col = False, delimiter = ',', header=None)\n",
    "    \n",
    "    return names, ingr, steps"
   ]
  },
  {
   "cell_type": "code",
   "execution_count": 48,
   "metadata": {},
   "outputs": [],
   "source": [
    "time_retrieval = lambda words, sentence : re.findall(re.compile('|'.join(\n",
    "        [n + w + \"\\\\b\" for w in words for n in [\"[0-9]+\\s*\",\"another \",\"few \",\"a \",\"an \",\"several \"]])), sentence)\n",
    "\n",
    "kw_retrieval = lambda words, sentence : re.findall(re.compile('|'.join(\n",
    "        [\"\\\\b\" + w + \"\\\\b\" for w in words])), sentence)\n",
    "\n",
    "def convert_step_to_time(step, keyword_check = True):\n",
    "    t2d = text2digits.Text2Digits()\n",
    "    total_time = 0 # in seconds\n",
    "    times = defaultdict(list)\n",
    "    time_unit = {\"second\":1, \"minute\":60, \"hour\":60*60}\n",
    "    kw_dict = {\"overnight\":8, \"night\":8, \"nights\":8, \"freeze\":5, \"refrigerate\":3,\n",
    "               \"day\":12, \"cook on low\":7, \"slow cook\":7, \"crockpot\":7, \"crock pot\":7,\n",
    "               \"cook low\":7, \"boil\":1, \"heat\":1, \"bread machine\":1.5\n",
    "               }\n",
    "    \n",
    "    # Iterate through each step to find time value using RE\n",
    "    numeric_step = t2d.convert(step)\n",
    "    times[\"second\"] = time_retrieval([\"more seconds\",\"more second\",\"more secs\",\"more sec\",\"seconds\",\"second\",\"secs\",\"sec\",\"s\"],numeric_step)\n",
    "    times[\"minute\"] = time_retrieval([\"more minutes\",\"more minute\",\"more min\",\"more mins\",\"minutes\",\"minute\",\"min\",\"mins\",\"m\",\"ms\"],numeric_step)\n",
    "    times[\"hour\"] = time_retrieval([\"more hours\",\"more hour\",\"more hrs\",\"more hr\",\"hours\",\"hour\",\"hrs\",\"hr\",\"h\",\"hs\"],numeric_step)\n",
    "    special_keywords = kw_retrieval(kw_dict.keys(),numeric_step) if keyword_check else None\n",
    "\n",
    "    for unit in time_unit.keys():\n",
    "        #total_time += sum([float(re.findall(r'[0-9]+',t.split()[0])[0]) * time_unit[unit] for t in times[unit]])\n",
    "        count = 0\n",
    "        for t in times[unit]:\n",
    "            numerator = t.split()[0]\n",
    "\n",
    "            if numerator in [\"another\",\"a\",\"an\"]:\n",
    "                count = 1\n",
    "            elif numerator in [\"few\",\"several\"]:\n",
    "                count = 4\n",
    "            else:\n",
    "                count = float(re.findall(r'[0-9]+',numerator)[0])\n",
    "\n",
    "            total_time += count * time_unit[unit]\n",
    "\n",
    "    if keyword_check and not total_time and special_keywords:\n",
    "        total_time += 60*60*kw_dict[special_keywords[0]]\n",
    "\n",
    "    if total_time == 0:\n",
    "        return None\n",
    "    return total_time"
   ]
  },
  {
   "cell_type": "code",
   "execution_count": 36,
   "metadata": {},
   "outputs": [
    {
     "output_type": "execute_result",
     "data": {
      "text/plain": [
       "dict_values([8, 8, 8, 4, 12, 6, 7, 7, 7, 7, 1, 1.5])"
      ]
     },
     "metadata": {},
     "execution_count": 36
    }
   ],
   "source": [
    "kw_dict = {\"overnight\":8, \"night\":8, \"nights\":8, \"refrigerate\":4,\n",
    "            \"day\":12, \"freeze\":6, \"cook on low\":7, \"slow cook\":7,\n",
    "            \"cook low\":7, \"bread machine\":7, \"boil\":1, \"heat\":1.5}\n",
    "kw_retrieval(kw_dict.keys(),'freeze overnight then put to boil')   \n",
    "kw_dict.values()         "
   ]
  },
  {
   "cell_type": "markdown",
   "id": "metric-field",
   "metadata": {},
   "source": [
    "### Read given preprocessed text input\n",
    "\n",
    "Run each code cell below for specified file to be read\n",
    "\n",
    "**Count vectorizer**"
   ]
  },
  {
   "cell_type": "code",
   "execution_count": 33,
   "id": "virgin-jumping",
   "metadata": {},
   "outputs": [
    {
     "output_type": "execute_result",
     "data": {
      "text/plain": [
       "1"
      ]
     },
     "metadata": {},
     "execution_count": 33
    }
   ],
   "source": [
    "name, ingr, steps = read_npz_file(['train_name_vec.npz', 'train_ingr_vec.npz', 'train_steps_vec.npz'])\n",
    "#print(steps)\n",
    "steps[((0,584))]"
   ]
  },
  {
   "cell_type": "code",
   "execution_count": 28,
   "metadata": {},
   "outputs": [
    {
     "output_type": "stream",
     "name": "stdout",
     "text": [
      "['indices', 'indptr', 'format', 'shape', 'data']\n"
     ]
    },
    {
     "output_type": "execute_result",
     "data": {
      "text/plain": [
       "         0        1        2        3        4        5        6        \\\n",
       "indices      584     1172   2473.0   2726.0   2783.0   3248.0   3354.0   \n",
       "indptr         0       30     71.0    123.0    162.0    184.0    239.0   \n",
       "shape      40000    17967      NaN      NaN      NaN      NaN      NaN   \n",
       "data           1        3      1.0      1.0      1.0      1.0      1.0   \n",
       "\n",
       "         7        8        9        ...  1737811  1737812  1737813  1737814  \\\n",
       "indices   3554.0   4007.0   4442.0  ...  12331.0  13008.0  13626.0  13636.0   \n",
       "indptr     273.0    364.0    388.0  ...      NaN      NaN      NaN      NaN   \n",
       "shape        NaN      NaN      NaN  ...      NaN      NaN      NaN      NaN   \n",
       "data         1.0      1.0      2.0  ...      1.0      1.0      1.0      1.0   \n",
       "\n",
       "         1737815  1737816  1737817  1737818  1737819  1737820  \n",
       "indices  14293.0  14582.0  15176.0  15265.0  16105.0  16107.0  \n",
       "indptr       NaN      NaN      NaN      NaN      NaN      NaN  \n",
       "shape        NaN      NaN      NaN      NaN      NaN      NaN  \n",
       "data         1.0      1.0      1.0      1.0      1.0      1.0  \n",
       "\n",
       "[4 rows x 1737821 columns]"
      ],
      "text/html": "<div>\n<style scoped>\n    .dataframe tbody tr th:only-of-type {\n        vertical-align: middle;\n    }\n\n    .dataframe tbody tr th {\n        vertical-align: top;\n    }\n\n    .dataframe thead th {\n        text-align: right;\n    }\n</style>\n<table border=\"1\" class=\"dataframe\">\n  <thead>\n    <tr style=\"text-align: right;\">\n      <th></th>\n      <th>0</th>\n      <th>1</th>\n      <th>2</th>\n      <th>3</th>\n      <th>4</th>\n      <th>5</th>\n      <th>6</th>\n      <th>7</th>\n      <th>8</th>\n      <th>9</th>\n      <th>...</th>\n      <th>1737811</th>\n      <th>1737812</th>\n      <th>1737813</th>\n      <th>1737814</th>\n      <th>1737815</th>\n      <th>1737816</th>\n      <th>1737817</th>\n      <th>1737818</th>\n      <th>1737819</th>\n      <th>1737820</th>\n    </tr>\n  </thead>\n  <tbody>\n    <tr>\n      <th>indices</th>\n      <td>584</td>\n      <td>1172</td>\n      <td>2473.0</td>\n      <td>2726.0</td>\n      <td>2783.0</td>\n      <td>3248.0</td>\n      <td>3354.0</td>\n      <td>3554.0</td>\n      <td>4007.0</td>\n      <td>4442.0</td>\n      <td>...</td>\n      <td>12331.0</td>\n      <td>13008.0</td>\n      <td>13626.0</td>\n      <td>13636.0</td>\n      <td>14293.0</td>\n      <td>14582.0</td>\n      <td>15176.0</td>\n      <td>15265.0</td>\n      <td>16105.0</td>\n      <td>16107.0</td>\n    </tr>\n    <tr>\n      <th>indptr</th>\n      <td>0</td>\n      <td>30</td>\n      <td>71.0</td>\n      <td>123.0</td>\n      <td>162.0</td>\n      <td>184.0</td>\n      <td>239.0</td>\n      <td>273.0</td>\n      <td>364.0</td>\n      <td>388.0</td>\n      <td>...</td>\n      <td>NaN</td>\n      <td>NaN</td>\n      <td>NaN</td>\n      <td>NaN</td>\n      <td>NaN</td>\n      <td>NaN</td>\n      <td>NaN</td>\n      <td>NaN</td>\n      <td>NaN</td>\n      <td>NaN</td>\n    </tr>\n    <tr>\n      <th>shape</th>\n      <td>40000</td>\n      <td>17967</td>\n      <td>NaN</td>\n      <td>NaN</td>\n      <td>NaN</td>\n      <td>NaN</td>\n      <td>NaN</td>\n      <td>NaN</td>\n      <td>NaN</td>\n      <td>NaN</td>\n      <td>...</td>\n      <td>NaN</td>\n      <td>NaN</td>\n      <td>NaN</td>\n      <td>NaN</td>\n      <td>NaN</td>\n      <td>NaN</td>\n      <td>NaN</td>\n      <td>NaN</td>\n      <td>NaN</td>\n      <td>NaN</td>\n    </tr>\n    <tr>\n      <th>data</th>\n      <td>1</td>\n      <td>3</td>\n      <td>1.0</td>\n      <td>1.0</td>\n      <td>1.0</td>\n      <td>1.0</td>\n      <td>1.0</td>\n      <td>1.0</td>\n      <td>1.0</td>\n      <td>2.0</td>\n      <td>...</td>\n      <td>1.0</td>\n      <td>1.0</td>\n      <td>1.0</td>\n      <td>1.0</td>\n      <td>1.0</td>\n      <td>1.0</td>\n      <td>1.0</td>\n      <td>1.0</td>\n      <td>1.0</td>\n      <td>1.0</td>\n    </tr>\n  </tbody>\n</table>\n<p>4 rows × 1737821 columns</p>\n</div>"
     },
     "metadata": {},
     "execution_count": 28
    }
   ],
   "source": [
    "npz = np.load('COMP30027_2021_Project2_datasets\\\\recipe_text_features_countvec\\\\train_steps_vec.npz')\n",
    "print(npz.files)\n",
    "npz['format']\n",
    "pd.DataFrame.from_dict({i: npz[i] for i in ['indices', 'indptr', 'data']})"
   ]
  },
  {
   "cell_type": "code",
   "execution_count": 29,
   "metadata": {},
   "outputs": [
    {
     "output_type": "execute_result",
     "data": {
      "text/plain": [
       "Counter({1: 1398228,\n",
       "         3: 63583,\n",
       "         2: 238407,\n",
       "         4: 22181,\n",
       "         6: 3528,\n",
       "         5: 8498,\n",
       "         10: 186,\n",
       "         15: 20,\n",
       "         7: 1620,\n",
       "         8: 821,\n",
       "         9: 421,\n",
       "         11: 114,\n",
       "         12: 92,\n",
       "         18: 7,\n",
       "         14: 37,\n",
       "         24: 3,\n",
       "         13: 41,\n",
       "         20: 2,\n",
       "         19: 3,\n",
       "         17: 5,\n",
       "         22: 2,\n",
       "         16: 7,\n",
       "         21: 2,\n",
       "         29: 1,\n",
       "         39: 1,\n",
       "         25: 1,\n",
       "         30: 1,\n",
       "         188: 1,\n",
       "         28: 5,\n",
       "         35: 1,\n",
       "         32: 1,\n",
       "         23: 1})"
      ]
     },
     "metadata": {},
     "execution_count": 29
    }
   ],
   "source": [
    "Counter(npz['data'])"
   ]
  },
  {
   "cell_type": "markdown",
   "id": "stylish-prescription",
   "metadata": {},
   "source": [
    "**doc2vec50**"
   ]
  },
  {
   "cell_type": "code",
   "execution_count": 105,
   "id": "broke-purple",
   "metadata": {},
   "outputs": [
    {
     "name": "stdout",
     "output_type": "stream",
     "text": [
      "Evaluating on Name Feature:\n",
      "Zero-R Accuracy: 0.5061500000000001 \tRuntime: 0.13164758682250977\n",
      "GNB Accuracy: 0.5792750000000001 \tRuntime: 0.658240795135498\n",
      "LinearSVC Accuracy: 0.5933 \tRuntime: 121.30808925628662\n",
      "Decision Tree Accuracy: 0.4963 \tRuntime: 32.94474005699158\n",
      "KNN Accuracy: 0.5768500000000001 \tRuntime: 38.69227933883667\n",
      "Logistic Regression Accuracy: 0.59415 \tRuntime: 8.293499231338501\n",
      "\n",
      "Evaluating on Ingredient Feature:\n",
      "Zero-R Accuracy: 0.5061500000000001 \tRuntime: 0.15262579917907715\n",
      "GNB Accuracy: 0.5492 \tRuntime: 0.6073424816131592\n"
     ]
    },
    {
     "name": "stderr",
     "output_type": "stream",
     "text": [
      "c:\\python38\\lib\\site-packages\\sklearn\\svm\\_base.py:985: ConvergenceWarning: Liblinear failed to converge, increase the number of iterations.\n",
      "  warnings.warn(\"Liblinear failed to converge, increase \"\n"
     ]
    },
    {
     "name": "stdout",
     "output_type": "stream",
     "text": [
      "LinearSVC Accuracy: 0.57775 \tRuntime: 212.75199437141418\n",
      "Decision Tree Accuracy: 0.50135 \tRuntime: 36.771679401397705\n",
      "KNN Accuracy: 0.554625 \tRuntime: 38.07138729095459\n",
      "Logistic Regression Accuracy: 0.5777499999999999 \tRuntime: 9.737960577011108\n",
      "\n",
      "Evaluating on Steps Feature:\n",
      "Zero-R Accuracy: 0.5061500000000001 \tRuntime: 0.14165735244750977\n",
      "GNB Accuracy: 0.6214999999999999 \tRuntime: 0.6163501739501953\n"
     ]
    },
    {
     "name": "stderr",
     "output_type": "stream",
     "text": [
      "c:\\python38\\lib\\site-packages\\sklearn\\svm\\_base.py:985: ConvergenceWarning: Liblinear failed to converge, increase the number of iterations.\n",
      "  warnings.warn(\"Liblinear failed to converge, increase \"\n",
      "c:\\python38\\lib\\site-packages\\sklearn\\svm\\_base.py:985: ConvergenceWarning: Liblinear failed to converge, increase the number of iterations.\n",
      "  warnings.warn(\"Liblinear failed to converge, increase \"\n",
      "c:\\python38\\lib\\site-packages\\sklearn\\svm\\_base.py:985: ConvergenceWarning: Liblinear failed to converge, increase the number of iterations.\n",
      "  warnings.warn(\"Liblinear failed to converge, increase \"\n",
      "c:\\python38\\lib\\site-packages\\sklearn\\svm\\_base.py:985: ConvergenceWarning: Liblinear failed to converge, increase the number of iterations.\n",
      "  warnings.warn(\"Liblinear failed to converge, increase \"\n",
      "c:\\python38\\lib\\site-packages\\sklearn\\svm\\_base.py:985: ConvergenceWarning: Liblinear failed to converge, increase the number of iterations.\n",
      "  warnings.warn(\"Liblinear failed to converge, increase \"\n",
      "c:\\python38\\lib\\site-packages\\sklearn\\svm\\_base.py:985: ConvergenceWarning: Liblinear failed to converge, increase the number of iterations.\n",
      "  warnings.warn(\"Liblinear failed to converge, increase \"\n",
      "c:\\python38\\lib\\site-packages\\sklearn\\svm\\_base.py:985: ConvergenceWarning: Liblinear failed to converge, increase the number of iterations.\n",
      "  warnings.warn(\"Liblinear failed to converge, increase \"\n",
      "c:\\python38\\lib\\site-packages\\sklearn\\svm\\_base.py:985: ConvergenceWarning: Liblinear failed to converge, increase the number of iterations.\n",
      "  warnings.warn(\"Liblinear failed to converge, increase \"\n",
      "c:\\python38\\lib\\site-packages\\sklearn\\svm\\_base.py:985: ConvergenceWarning: Liblinear failed to converge, increase the number of iterations.\n",
      "  warnings.warn(\"Liblinear failed to converge, increase \"\n",
      "c:\\python38\\lib\\site-packages\\sklearn\\svm\\_base.py:985: ConvergenceWarning: Liblinear failed to converge, increase the number of iterations.\n",
      "  warnings.warn(\"Liblinear failed to converge, increase \"\n"
     ]
    },
    {
     "name": "stdout",
     "output_type": "stream",
     "text": [
      "LinearSVC Accuracy: 0.647825 \tRuntime: 255.95509934425354\n",
      "Decision Tree Accuracy: 0.5536749999999999 \tRuntime: 37.71866059303284\n",
      "KNN Accuracy: 0.631075 \tRuntime: 31.842905521392822\n",
      "Logistic Regression Accuracy: 0.6511 \tRuntime: 11.986218214035034\n",
      "\n"
     ]
    }
   ],
   "source": [
    "files_name = ['train_name_doc2vec50.csv', 'train_ingr_doc2vec50.csv', 'train_steps_doc2vec50.csv']\n",
    "name, ingr, steps = read_train_file('recipe_text_features_doc2vec50\\\\', files_name)\n",
    "\n",
    "X = [name, ingr, steps]\n",
    "i = 0\n",
    "for x in X:\n",
    "    if i == 0:\n",
    "        print('Evaluating on Name Feature:')\n",
    "    elif i == 1:\n",
    "        print('Evaluating on Ingredient Feature:')\n",
    "    else:\n",
    "        print('Evaluating on Steps Feature:')\n",
    "        \n",
    "    models = [DummyClassifier(strategy='most_frequent'),\n",
    "              GaussianNB(),\n",
    "              LinearSVC(),\n",
    "              DecisionTreeClassifier(),\n",
    "              KNeighborsClassifier(),\n",
    "              LogisticRegression()]\n",
    "\n",
    "    titles = ['Zero-R',\n",
    "              'GNB',\n",
    "              'LinearSVC',\n",
    "              'Decision Tree',\n",
    "              'KNN',\n",
    "              'Logistic Regression']\n",
    "\n",
    "    for title, model in zip(titles, models):\n",
    "        start = time.time()\n",
    "        acc = np.mean(cross_val_score(model, x, y, cv=10))\n",
    "        end = time.time()\n",
    "        t = end - start\n",
    "        print(title, \"Accuracy:\",acc, '\\tRuntime:', t)\n",
    "    print()\n",
    "    i = i + 1"
   ]
  },
  {
   "cell_type": "markdown",
   "id": "hispanic-skirt",
   "metadata": {},
   "source": [
    "**doc2vec100**"
   ]
  },
  {
   "cell_type": "code",
   "execution_count": 103,
   "id": "heard-pursuit",
   "metadata": {},
   "outputs": [
    {
     "name": "stdout",
     "output_type": "stream",
     "text": [
      "Evaluating on Name Feature:\n",
      "Zero-R Accuracy: 0.5061500000000001 \tRuntime: 0.3071775436401367\n",
      "GNB Accuracy: 0.5730749999999999 \tRuntime: 1.132969617843628\n",
      "LinearSVC Accuracy: 0.607325 \tRuntime: 188.9464361667633\n",
      "Decision Tree Accuracy: 0.492225 \tRuntime: 64.57338762283325\n",
      "KNN Accuracy: 0.576975 \tRuntime: 41.29353332519531\n"
     ]
    },
    {
     "name": "stderr",
     "output_type": "stream",
     "text": [
      "c:\\python38\\lib\\site-packages\\sklearn\\linear_model\\_logistic.py:763: ConvergenceWarning: lbfgs failed to converge (status=1):\n",
      "STOP: TOTAL NO. of ITERATIONS REACHED LIMIT.\n",
      "\n",
      "Increase the number of iterations (max_iter) or scale the data as shown in:\n",
      "    https://scikit-learn.org/stable/modules/preprocessing.html\n",
      "Please also refer to the documentation for alternative solver options:\n",
      "    https://scikit-learn.org/stable/modules/linear_model.html#logistic-regression\n",
      "  n_iter_i = _check_optimize_result(\n",
      "c:\\python38\\lib\\site-packages\\sklearn\\linear_model\\_logistic.py:763: ConvergenceWarning: lbfgs failed to converge (status=1):\n",
      "STOP: TOTAL NO. of ITERATIONS REACHED LIMIT.\n",
      "\n",
      "Increase the number of iterations (max_iter) or scale the data as shown in:\n",
      "    https://scikit-learn.org/stable/modules/preprocessing.html\n",
      "Please also refer to the documentation for alternative solver options:\n",
      "    https://scikit-learn.org/stable/modules/linear_model.html#logistic-regression\n",
      "  n_iter_i = _check_optimize_result(\n",
      "c:\\python38\\lib\\site-packages\\sklearn\\linear_model\\_logistic.py:763: ConvergenceWarning: lbfgs failed to converge (status=1):\n",
      "STOP: TOTAL NO. of ITERATIONS REACHED LIMIT.\n",
      "\n",
      "Increase the number of iterations (max_iter) or scale the data as shown in:\n",
      "    https://scikit-learn.org/stable/modules/preprocessing.html\n",
      "Please also refer to the documentation for alternative solver options:\n",
      "    https://scikit-learn.org/stable/modules/linear_model.html#logistic-regression\n",
      "  n_iter_i = _check_optimize_result(\n",
      "c:\\python38\\lib\\site-packages\\sklearn\\linear_model\\_logistic.py:763: ConvergenceWarning: lbfgs failed to converge (status=1):\n",
      "STOP: TOTAL NO. of ITERATIONS REACHED LIMIT.\n",
      "\n",
      "Increase the number of iterations (max_iter) or scale the data as shown in:\n",
      "    https://scikit-learn.org/stable/modules/preprocessing.html\n",
      "Please also refer to the documentation for alternative solver options:\n",
      "    https://scikit-learn.org/stable/modules/linear_model.html#logistic-regression\n",
      "  n_iter_i = _check_optimize_result(\n",
      "c:\\python38\\lib\\site-packages\\sklearn\\linear_model\\_logistic.py:763: ConvergenceWarning: lbfgs failed to converge (status=1):\n",
      "STOP: TOTAL NO. of ITERATIONS REACHED LIMIT.\n",
      "\n",
      "Increase the number of iterations (max_iter) or scale the data as shown in:\n",
      "    https://scikit-learn.org/stable/modules/preprocessing.html\n",
      "Please also refer to the documentation for alternative solver options:\n",
      "    https://scikit-learn.org/stable/modules/linear_model.html#logistic-regression\n",
      "  n_iter_i = _check_optimize_result(\n",
      "c:\\python38\\lib\\site-packages\\sklearn\\linear_model\\_logistic.py:763: ConvergenceWarning: lbfgs failed to converge (status=1):\n",
      "STOP: TOTAL NO. of ITERATIONS REACHED LIMIT.\n",
      "\n",
      "Increase the number of iterations (max_iter) or scale the data as shown in:\n",
      "    https://scikit-learn.org/stable/modules/preprocessing.html\n",
      "Please also refer to the documentation for alternative solver options:\n",
      "    https://scikit-learn.org/stable/modules/linear_model.html#logistic-regression\n",
      "  n_iter_i = _check_optimize_result(\n",
      "c:\\python38\\lib\\site-packages\\sklearn\\linear_model\\_logistic.py:763: ConvergenceWarning: lbfgs failed to converge (status=1):\n",
      "STOP: TOTAL NO. of ITERATIONS REACHED LIMIT.\n",
      "\n",
      "Increase the number of iterations (max_iter) or scale the data as shown in:\n",
      "    https://scikit-learn.org/stable/modules/preprocessing.html\n",
      "Please also refer to the documentation for alternative solver options:\n",
      "    https://scikit-learn.org/stable/modules/linear_model.html#logistic-regression\n",
      "  n_iter_i = _check_optimize_result(\n",
      "c:\\python38\\lib\\site-packages\\sklearn\\linear_model\\_logistic.py:763: ConvergenceWarning: lbfgs failed to converge (status=1):\n",
      "STOP: TOTAL NO. of ITERATIONS REACHED LIMIT.\n",
      "\n",
      "Increase the number of iterations (max_iter) or scale the data as shown in:\n",
      "    https://scikit-learn.org/stable/modules/preprocessing.html\n",
      "Please also refer to the documentation for alternative solver options:\n",
      "    https://scikit-learn.org/stable/modules/linear_model.html#logistic-regression\n",
      "  n_iter_i = _check_optimize_result(\n",
      "c:\\python38\\lib\\site-packages\\sklearn\\linear_model\\_logistic.py:763: ConvergenceWarning: lbfgs failed to converge (status=1):\n",
      "STOP: TOTAL NO. of ITERATIONS REACHED LIMIT.\n",
      "\n",
      "Increase the number of iterations (max_iter) or scale the data as shown in:\n",
      "    https://scikit-learn.org/stable/modules/preprocessing.html\n",
      "Please also refer to the documentation for alternative solver options:\n",
      "    https://scikit-learn.org/stable/modules/linear_model.html#logistic-regression\n",
      "  n_iter_i = _check_optimize_result(\n",
      "c:\\python38\\lib\\site-packages\\sklearn\\linear_model\\_logistic.py:763: ConvergenceWarning: lbfgs failed to converge (status=1):\n",
      "STOP: TOTAL NO. of ITERATIONS REACHED LIMIT.\n",
      "\n",
      "Increase the number of iterations (max_iter) or scale the data as shown in:\n",
      "    https://scikit-learn.org/stable/modules/preprocessing.html\n",
      "Please also refer to the documentation for alternative solver options:\n",
      "    https://scikit-learn.org/stable/modules/linear_model.html#logistic-regression\n",
      "  n_iter_i = _check_optimize_result(\n"
     ]
    },
    {
     "name": "stdout",
     "output_type": "stream",
     "text": [
      "Logistic Regression Accuracy: 0.6096000000000001 \tRuntime: 19.49396586418152\n",
      "\n",
      "Evaluating on Ingredient Feature:\n",
      "Zero-R Accuracy: 0.5061500000000001 \tRuntime: 0.34408068656921387\n",
      "GNB Accuracy: 0.54725 \tRuntime: 1.42818284034729\n"
     ]
    },
    {
     "name": "stderr",
     "output_type": "stream",
     "text": [
      "c:\\python38\\lib\\site-packages\\sklearn\\svm\\_base.py:985: ConvergenceWarning: Liblinear failed to converge, increase the number of iterations.\n",
      "  warnings.warn(\"Liblinear failed to converge, increase \"\n",
      "c:\\python38\\lib\\site-packages\\sklearn\\svm\\_base.py:985: ConvergenceWarning: Liblinear failed to converge, increase the number of iterations.\n",
      "  warnings.warn(\"Liblinear failed to converge, increase \"\n",
      "c:\\python38\\lib\\site-packages\\sklearn\\svm\\_base.py:985: ConvergenceWarning: Liblinear failed to converge, increase the number of iterations.\n",
      "  warnings.warn(\"Liblinear failed to converge, increase \"\n",
      "c:\\python38\\lib\\site-packages\\sklearn\\svm\\_base.py:985: ConvergenceWarning: Liblinear failed to converge, increase the number of iterations.\n",
      "  warnings.warn(\"Liblinear failed to converge, increase \"\n",
      "c:\\python38\\lib\\site-packages\\sklearn\\svm\\_base.py:985: ConvergenceWarning: Liblinear failed to converge, increase the number of iterations.\n",
      "  warnings.warn(\"Liblinear failed to converge, increase \"\n",
      "c:\\python38\\lib\\site-packages\\sklearn\\svm\\_base.py:985: ConvergenceWarning: Liblinear failed to converge, increase the number of iterations.\n",
      "  warnings.warn(\"Liblinear failed to converge, increase \"\n"
     ]
    },
    {
     "name": "stdout",
     "output_type": "stream",
     "text": [
      "LinearSVC Accuracy: 0.58235 \tRuntime: 423.3654956817627\n",
      "Decision Tree Accuracy: 0.49355000000000004 \tRuntime: 73.16237497329712\n",
      "KNN Accuracy: 0.5379500000000002 \tRuntime: 40.18614101409912\n",
      "Logistic Regression Accuracy: 0.5824499999999999 \tRuntime: 16.332329750061035\n",
      "\n",
      "Evaluating on Steps Feature:\n",
      "Zero-R Accuracy: 0.5061500000000001 \tRuntime: 0.28224611282348633\n",
      "GNB Accuracy: 0.603275 \tRuntime: 1.347395896911621\n"
     ]
    },
    {
     "name": "stderr",
     "output_type": "stream",
     "text": [
      "c:\\python38\\lib\\site-packages\\sklearn\\svm\\_base.py:985: ConvergenceWarning: Liblinear failed to converge, increase the number of iterations.\n",
      "  warnings.warn(\"Liblinear failed to converge, increase \"\n",
      "c:\\python38\\lib\\site-packages\\sklearn\\svm\\_base.py:985: ConvergenceWarning: Liblinear failed to converge, increase the number of iterations.\n",
      "  warnings.warn(\"Liblinear failed to converge, increase \"\n",
      "c:\\python38\\lib\\site-packages\\sklearn\\svm\\_base.py:985: ConvergenceWarning: Liblinear failed to converge, increase the number of iterations.\n",
      "  warnings.warn(\"Liblinear failed to converge, increase \"\n",
      "c:\\python38\\lib\\site-packages\\sklearn\\svm\\_base.py:985: ConvergenceWarning: Liblinear failed to converge, increase the number of iterations.\n",
      "  warnings.warn(\"Liblinear failed to converge, increase \"\n",
      "c:\\python38\\lib\\site-packages\\sklearn\\svm\\_base.py:985: ConvergenceWarning: Liblinear failed to converge, increase the number of iterations.\n",
      "  warnings.warn(\"Liblinear failed to converge, increase \"\n",
      "c:\\python38\\lib\\site-packages\\sklearn\\svm\\_base.py:985: ConvergenceWarning: Liblinear failed to converge, increase the number of iterations.\n",
      "  warnings.warn(\"Liblinear failed to converge, increase \"\n",
      "c:\\python38\\lib\\site-packages\\sklearn\\svm\\_base.py:985: ConvergenceWarning: Liblinear failed to converge, increase the number of iterations.\n",
      "  warnings.warn(\"Liblinear failed to converge, increase \"\n",
      "c:\\python38\\lib\\site-packages\\sklearn\\svm\\_base.py:985: ConvergenceWarning: Liblinear failed to converge, increase the number of iterations.\n",
      "  warnings.warn(\"Liblinear failed to converge, increase \"\n",
      "c:\\python38\\lib\\site-packages\\sklearn\\svm\\_base.py:985: ConvergenceWarning: Liblinear failed to converge, increase the number of iterations.\n",
      "  warnings.warn(\"Liblinear failed to converge, increase \"\n",
      "c:\\python38\\lib\\site-packages\\sklearn\\svm\\_base.py:985: ConvergenceWarning: Liblinear failed to converge, increase the number of iterations.\n",
      "  warnings.warn(\"Liblinear failed to converge, increase \"\n"
     ]
    },
    {
     "name": "stdout",
     "output_type": "stream",
     "text": [
      "LinearSVC Accuracy: 0.6658000000000001 \tRuntime: 424.7097158432007\n",
      "Decision Tree Accuracy: 0.53675 \tRuntime: 76.39373779296875\n",
      "KNN Accuracy: 0.57255 \tRuntime: 35.4543981552124\n"
     ]
    },
    {
     "name": "stderr",
     "output_type": "stream",
     "text": [
      "c:\\python38\\lib\\site-packages\\sklearn\\linear_model\\_logistic.py:763: ConvergenceWarning: lbfgs failed to converge (status=1):\n",
      "STOP: TOTAL NO. of ITERATIONS REACHED LIMIT.\n",
      "\n",
      "Increase the number of iterations (max_iter) or scale the data as shown in:\n",
      "    https://scikit-learn.org/stable/modules/preprocessing.html\n",
      "Please also refer to the documentation for alternative solver options:\n",
      "    https://scikit-learn.org/stable/modules/linear_model.html#logistic-regression\n",
      "  n_iter_i = _check_optimize_result(\n",
      "c:\\python38\\lib\\site-packages\\sklearn\\linear_model\\_logistic.py:763: ConvergenceWarning: lbfgs failed to converge (status=1):\n",
      "STOP: TOTAL NO. of ITERATIONS REACHED LIMIT.\n",
      "\n",
      "Increase the number of iterations (max_iter) or scale the data as shown in:\n",
      "    https://scikit-learn.org/stable/modules/preprocessing.html\n",
      "Please also refer to the documentation for alternative solver options:\n",
      "    https://scikit-learn.org/stable/modules/linear_model.html#logistic-regression\n",
      "  n_iter_i = _check_optimize_result(\n",
      "c:\\python38\\lib\\site-packages\\sklearn\\linear_model\\_logistic.py:763: ConvergenceWarning: lbfgs failed to converge (status=1):\n",
      "STOP: TOTAL NO. of ITERATIONS REACHED LIMIT.\n",
      "\n",
      "Increase the number of iterations (max_iter) or scale the data as shown in:\n",
      "    https://scikit-learn.org/stable/modules/preprocessing.html\n",
      "Please also refer to the documentation for alternative solver options:\n",
      "    https://scikit-learn.org/stable/modules/linear_model.html#logistic-regression\n",
      "  n_iter_i = _check_optimize_result(\n",
      "c:\\python38\\lib\\site-packages\\sklearn\\linear_model\\_logistic.py:763: ConvergenceWarning: lbfgs failed to converge (status=1):\n",
      "STOP: TOTAL NO. of ITERATIONS REACHED LIMIT.\n",
      "\n",
      "Increase the number of iterations (max_iter) or scale the data as shown in:\n",
      "    https://scikit-learn.org/stable/modules/preprocessing.html\n",
      "Please also refer to the documentation for alternative solver options:\n",
      "    https://scikit-learn.org/stable/modules/linear_model.html#logistic-regression\n",
      "  n_iter_i = _check_optimize_result(\n"
     ]
    },
    {
     "name": "stdout",
     "output_type": "stream",
     "text": [
      "Logistic Regression Accuracy: 0.6700000000000002 \tRuntime: 18.288459539413452\n",
      "\n"
     ]
    }
   ],
   "source": [
    "files_name = ['train_name_doc2vec100.csv', 'train_ingr_doc2vec100.csv', 'train_steps_doc2vec100.csv']\n",
    "name, ingr, steps = read_train_file('recipe_text_features_doc2vec100\\\\', files_name)\n",
    "\n",
    "X = [name, ingr, steps]\n",
    "i = 0\n",
    "for x in X:\n",
    "    if i == 0:\n",
    "        print('Evaluating on Name Feature:')\n",
    "    elif i == 1:\n",
    "        print('Evaluating on Ingredient Feature:')\n",
    "    else:\n",
    "        print('Evaluating on Steps Feature:')\n",
    "        \n",
    "    models = [DummyClassifier(strategy='most_frequent'),\n",
    "              GaussianNB(),\n",
    "              LinearSVC(),\n",
    "              DecisionTreeClassifier(),\n",
    "              KNeighborsClassifier(),\n",
    "              LogisticRegression()]\n",
    "\n",
    "    titles = ['Zero-R',\n",
    "              'GNB',\n",
    "              'LinearSVC',\n",
    "              'Decision Tree',\n",
    "              'KNN',\n",
    "              'Logistic Regression']\n",
    "\n",
    "    for title, model in zip(titles, models):\n",
    "        start = time.time()\n",
    "        acc = np.mean(cross_val_score(model, x, y, cv=10))\n",
    "        end = time.time()\n",
    "        t = end - start\n",
    "        print(title, \"Accuracy:\",acc, '\\tRuntime:', t)\n",
    "    print()\n",
    "    i = i + 1"
   ]
  },
  {
   "cell_type": "markdown",
   "id": "ultimate-walker",
   "metadata": {},
   "source": [
    "### Creative text preprocessing method\n",
    "Idea: Find all time-related content in 'steps' feature using Regular Expression. Sum the times up for total time and use that as a feature in training and classifying"
   ]
  },
  {
   "cell_type": "code",
   "execution_count": 196,
   "metadata": {},
   "outputs": [
    {
     "output_type": "execute_result",
     "data": {
      "text/plain": [
       "['1hrs', '20 hrs', '3 hours', '5h', '6h', '7h']"
      ]
     },
     "metadata": {},
     "execution_count": 196
    }
   ],
   "source": [
    "# test function\n",
    "#convert_step_to_time('3hrs and 10 hrs and 3 hours')\n",
    "#re.findall(r\"[0-9]+\\s*hours\\b|[0-9]+\\s*hrs\\b\",'1hrs and 20 hrs and 3 hours and 4 halves and 5h and 6h, and 7h. 8house')\n",
    "#re.findall(r\"[0-9]+\\s*hours\\b|[0-9]+\\s*hour\\b|[0-9]+\\s*hrs\\b|[0-9]+\\s*hr\\b|[0-9]+\\s*h\\b|[0-9]+\\s*hs\\b\",'1hrs and 20 hrs and 3 hours and 4 halves and 5h and 6h, and 7h. 8house')\n",
    "#re.findall(r\"[0-9]+\\s*s[(ec+)\\s\\,\\;\\.]\",'1s and 20 sec and 3sec and 4 sex and 5se and 6s, and 7se.')\n",
    "#re.findall(r\"s(ec+)\",'1s and 20 sec and 3sec and 4 sex and 5se and 6s, and 7se.')\n",
    "#re.findall(r\"[0-9]+\\s*\"+\"hours\\b\",'1hrs and 20 hrs and 3 hours and 4 halves and 5h and 6h, and 7h. 8house')\n",
    "#re.findall(re.compile(''.join([\"[0-9]\", \"\\s*\", \"house\"])), \"1 house,2house\")\n",
    "#re.findall(re.compile('|'.join([\"[0-9]+\\s*\" + word + \"\\\\b\" for word in [\"hours\",\"hour\",\"hrs\",\"hr\",\"h\"]])), '1hrs and 20 hrs and 3 hours and 4 halves and 5h and 6h, and 7h. 8house')\n",
    "time_retrieval([\"hours\",\"hour\",\"hrs\",\"hr\",\"h\"],'1hrs and 20 hrs and 3 hours and 4 halves and 5h and 6h, and 7h. 8house')"
   ]
  },
  {
   "cell_type": "code",
   "execution_count": 53,
   "id": "weighted-chapel",
   "metadata": {},
   "outputs": [
    {
     "output_type": "stream",
     "name": "stderr",
     "text": [
      "Converting...: 100%|██████████| 40000/40000 [01:26<00:00, 463.56it/s]\n"
     ]
    },
    {
     "output_type": "execute_result",
     "data": {
      "text/plain": [
       "                                                   name  n_steps  \\\n",
       "32447     ww honey glazed salmon with wasabi   4 points       10   \n",
       "31526                      caramel apple and pear crisp       15   \n",
       "39588                           roasted root vegetables        8   \n",
       "26226                                thanksgiving rolls        5   \n",
       "22098                              creamy clam  chowder        9   \n",
       "24348                 breakfast cream cheese snack cake       10   \n",
       "17621  spinach asparagus salad with strawberry dressing        6   \n",
       "6717                     mean chef s apple rustic tarts       18   \n",
       "12541                                   buckwheat pilaf        8   \n",
       "8547                    roasted potato salad with bacon       19   \n",
       "32656                              grandma s coleslaw 2        4   \n",
       "24378              grilled bananas with sweetened cream        6   \n",
       "30763                               meatballs appetizer        8   \n",
       "14902                       get the sensation  brownies       11   \n",
       "29358                              cajun fish croquette        7   \n",
       "8784                                   bourbon brownies        9   \n",
       "10510                    microwave chocolate pound cake       14   \n",
       "10244                         smoked paprika mayonnaise        2   \n",
       "15614                                 southern meatloaf        4   \n",
       "31050                            kulikuli  peanut balls        7   \n",
       "\n",
       "       n_ingredients                                              steps  \\\n",
       "32447             10  ['to make the sauce , bring the mirin , vinega...   \n",
       "31526             11  ['heat oven to 375f', 'spray 8-inch square bak...   \n",
       "39588              8  ['heat oven to 400 degrees', 'place the root v...   \n",
       "26226              6  ['mix together the first 5 ingredients', 'unro...   \n",
       "22098              9  ['in a medium skillet over medium heat , cook ...   \n",
       "24348             12  ['in a medium mixing bowl , cream butter with ...   \n",
       "17621              9  ['make dressing: combine strawberries , juice ...   \n",
       "6717               7  ['for the streusel: in a food processor fitted...   \n",
       "12541             11  ['place water or stock in a 3 quart pot and br...   \n",
       "8547              11  ['heat the oven to 375f', 'clean and halve fin...   \n",
       "32656              6  ['mix cabbage and carrots together in large bo...   \n",
       "24378              6  ['light the grill', 'in a small bowl , stir to...   \n",
       "30763             13  ['preheat oven to 350 degrees', 'mix together ...   \n",
       "14902              9  ['preheat oven to 350 degrees', 'grease 13 x 9...   \n",
       "29358              9  ['in a not too deep bowl , mix flour , cornmea...   \n",
       "8784               6  ['bake brownies in 9 x 13 inch pan according t...   \n",
       "10510              6  ['grease and flour a 12-cup microwave bundt ca...   \n",
       "10244              3  ['whisk everything together in a small bowl', ...   \n",
       "15614             12  ['preheat to 350f', 'mix all ingredients excep...   \n",
       "31050              6  ['grind or pound the nuts adding just enough o...   \n",
       "\n",
       "                                             ingredients  duration_label  \\\n",
       "32447  ['rice wine', 'seasoned rice vinegar', 'reduce...             1.0   \n",
       "31526  ['apples', 'pears', 'sugar', 'allspice', 'cara...             2.0   \n",
       "39588  ['vegetables', 'onion', 'olive oil', 'salt', '...             2.0   \n",
       "26226  ['sour cream', 'onion', 'celery salt', 'parsle...             1.0   \n",
       "22098  ['bacon', 'celery', 'onion', 'butter', 'flour'...             2.0   \n",
       "24348  ['butter', 'cream cheese', 'eggs', 'sugar', 'v...             2.0   \n",
       "17621  ['strawberry', 'orange juice', 'raspberry vine...             1.0   \n",
       "6717   ['unbleached all-purpose flour', 'granulated s...             2.0   \n",
       "12541  ['buckwheat groats', 'water', 'toasted sesame ...             2.0   \n",
       "8547   ['potatoes', 'garlic', 'olive oil', 'kosher sa...             2.0   \n",
       "32656  ['cabbage', 'carrot', 'mayonnaise', 'french on...             1.0   \n",
       "24378  ['sour cream', 'vanilla extract', 'light brown...             1.0   \n",
       "30763  ['ground round', 'milk', 'eggs', 'onion', 'bre...             2.0   \n",
       "14902  ['butter', 'sugar', 'vanilla', 'eggs', 'all-pu...             2.0   \n",
       "29358  ['flour', 'cornmeal', 'cajun seasoning', 'salt...             1.0   \n",
       "8784   ['brownie mix', 'bourbon', 'powdered sugar', '...             2.0   \n",
       "10510  ['fudge cake mix', 'water', 'eggs', 'sour crea...             2.0   \n",
       "10244         ['capers', 'smoked paprika', 'mayonnaise']             1.0   \n",
       "15614  ['ground beef', 'saltine crumbs', 'egg', 'milk...             2.0   \n",
       "31050  ['roasted peanuts', 'peanut oil', 'onion', 'ca...             1.0   \n",
       "\n",
       "       seconds  \n",
       "32447    540.0  \n",
       "31526   3000.0  \n",
       "39588   6600.0  \n",
       "26226      NaN  \n",
       "22098   1800.0  \n",
       "24348   1800.0  \n",
       "17621  10800.0  \n",
       "6717    9000.0  \n",
       "12541   1380.0  \n",
       "8547   11700.0  \n",
       "32656  10800.0  \n",
       "24378    120.0  \n",
       "30763   3000.0  \n",
       "14902   3300.0  \n",
       "29358    840.0  \n",
       "8784   10800.0  \n",
       "10510   1620.0  \n",
       "10244      NaN  \n",
       "15614      NaN  \n",
       "31050    180.0  "
      ],
      "text/html": "<div>\n<style scoped>\n    .dataframe tbody tr th:only-of-type {\n        vertical-align: middle;\n    }\n\n    .dataframe tbody tr th {\n        vertical-align: top;\n    }\n\n    .dataframe thead th {\n        text-align: right;\n    }\n</style>\n<table border=\"1\" class=\"dataframe\">\n  <thead>\n    <tr style=\"text-align: right;\">\n      <th></th>\n      <th>name</th>\n      <th>n_steps</th>\n      <th>n_ingredients</th>\n      <th>steps</th>\n      <th>ingredients</th>\n      <th>duration_label</th>\n      <th>seconds</th>\n    </tr>\n  </thead>\n  <tbody>\n    <tr>\n      <th>32447</th>\n      <td>ww honey glazed salmon with wasabi   4 points</td>\n      <td>10</td>\n      <td>10</td>\n      <td>['to make the sauce , bring the mirin , vinega...</td>\n      <td>['rice wine', 'seasoned rice vinegar', 'reduce...</td>\n      <td>1.0</td>\n      <td>540.0</td>\n    </tr>\n    <tr>\n      <th>31526</th>\n      <td>caramel apple and pear crisp</td>\n      <td>15</td>\n      <td>11</td>\n      <td>['heat oven to 375f', 'spray 8-inch square bak...</td>\n      <td>['apples', 'pears', 'sugar', 'allspice', 'cara...</td>\n      <td>2.0</td>\n      <td>3000.0</td>\n    </tr>\n    <tr>\n      <th>39588</th>\n      <td>roasted root vegetables</td>\n      <td>8</td>\n      <td>8</td>\n      <td>['heat oven to 400 degrees', 'place the root v...</td>\n      <td>['vegetables', 'onion', 'olive oil', 'salt', '...</td>\n      <td>2.0</td>\n      <td>6600.0</td>\n    </tr>\n    <tr>\n      <th>26226</th>\n      <td>thanksgiving rolls</td>\n      <td>5</td>\n      <td>6</td>\n      <td>['mix together the first 5 ingredients', 'unro...</td>\n      <td>['sour cream', 'onion', 'celery salt', 'parsle...</td>\n      <td>1.0</td>\n      <td>NaN</td>\n    </tr>\n    <tr>\n      <th>22098</th>\n      <td>creamy clam  chowder</td>\n      <td>9</td>\n      <td>9</td>\n      <td>['in a medium skillet over medium heat , cook ...</td>\n      <td>['bacon', 'celery', 'onion', 'butter', 'flour'...</td>\n      <td>2.0</td>\n      <td>1800.0</td>\n    </tr>\n    <tr>\n      <th>24348</th>\n      <td>breakfast cream cheese snack cake</td>\n      <td>10</td>\n      <td>12</td>\n      <td>['in a medium mixing bowl , cream butter with ...</td>\n      <td>['butter', 'cream cheese', 'eggs', 'sugar', 'v...</td>\n      <td>2.0</td>\n      <td>1800.0</td>\n    </tr>\n    <tr>\n      <th>17621</th>\n      <td>spinach asparagus salad with strawberry dressing</td>\n      <td>6</td>\n      <td>9</td>\n      <td>['make dressing: combine strawberries , juice ...</td>\n      <td>['strawberry', 'orange juice', 'raspberry vine...</td>\n      <td>1.0</td>\n      <td>10800.0</td>\n    </tr>\n    <tr>\n      <th>6717</th>\n      <td>mean chef s apple rustic tarts</td>\n      <td>18</td>\n      <td>7</td>\n      <td>['for the streusel: in a food processor fitted...</td>\n      <td>['unbleached all-purpose flour', 'granulated s...</td>\n      <td>2.0</td>\n      <td>9000.0</td>\n    </tr>\n    <tr>\n      <th>12541</th>\n      <td>buckwheat pilaf</td>\n      <td>8</td>\n      <td>11</td>\n      <td>['place water or stock in a 3 quart pot and br...</td>\n      <td>['buckwheat groats', 'water', 'toasted sesame ...</td>\n      <td>2.0</td>\n      <td>1380.0</td>\n    </tr>\n    <tr>\n      <th>8547</th>\n      <td>roasted potato salad with bacon</td>\n      <td>19</td>\n      <td>11</td>\n      <td>['heat the oven to 375f', 'clean and halve fin...</td>\n      <td>['potatoes', 'garlic', 'olive oil', 'kosher sa...</td>\n      <td>2.0</td>\n      <td>11700.0</td>\n    </tr>\n    <tr>\n      <th>32656</th>\n      <td>grandma s coleslaw 2</td>\n      <td>4</td>\n      <td>6</td>\n      <td>['mix cabbage and carrots together in large bo...</td>\n      <td>['cabbage', 'carrot', 'mayonnaise', 'french on...</td>\n      <td>1.0</td>\n      <td>10800.0</td>\n    </tr>\n    <tr>\n      <th>24378</th>\n      <td>grilled bananas with sweetened cream</td>\n      <td>6</td>\n      <td>6</td>\n      <td>['light the grill', 'in a small bowl , stir to...</td>\n      <td>['sour cream', 'vanilla extract', 'light brown...</td>\n      <td>1.0</td>\n      <td>120.0</td>\n    </tr>\n    <tr>\n      <th>30763</th>\n      <td>meatballs appetizer</td>\n      <td>8</td>\n      <td>13</td>\n      <td>['preheat oven to 350 degrees', 'mix together ...</td>\n      <td>['ground round', 'milk', 'eggs', 'onion', 'bre...</td>\n      <td>2.0</td>\n      <td>3000.0</td>\n    </tr>\n    <tr>\n      <th>14902</th>\n      <td>get the sensation  brownies</td>\n      <td>11</td>\n      <td>9</td>\n      <td>['preheat oven to 350 degrees', 'grease 13 x 9...</td>\n      <td>['butter', 'sugar', 'vanilla', 'eggs', 'all-pu...</td>\n      <td>2.0</td>\n      <td>3300.0</td>\n    </tr>\n    <tr>\n      <th>29358</th>\n      <td>cajun fish croquette</td>\n      <td>7</td>\n      <td>9</td>\n      <td>['in a not too deep bowl , mix flour , cornmea...</td>\n      <td>['flour', 'cornmeal', 'cajun seasoning', 'salt...</td>\n      <td>1.0</td>\n      <td>840.0</td>\n    </tr>\n    <tr>\n      <th>8784</th>\n      <td>bourbon brownies</td>\n      <td>9</td>\n      <td>6</td>\n      <td>['bake brownies in 9 x 13 inch pan according t...</td>\n      <td>['brownie mix', 'bourbon', 'powdered sugar', '...</td>\n      <td>2.0</td>\n      <td>10800.0</td>\n    </tr>\n    <tr>\n      <th>10510</th>\n      <td>microwave chocolate pound cake</td>\n      <td>14</td>\n      <td>6</td>\n      <td>['grease and flour a 12-cup microwave bundt ca...</td>\n      <td>['fudge cake mix', 'water', 'eggs', 'sour crea...</td>\n      <td>2.0</td>\n      <td>1620.0</td>\n    </tr>\n    <tr>\n      <th>10244</th>\n      <td>smoked paprika mayonnaise</td>\n      <td>2</td>\n      <td>3</td>\n      <td>['whisk everything together in a small bowl', ...</td>\n      <td>['capers', 'smoked paprika', 'mayonnaise']</td>\n      <td>1.0</td>\n      <td>NaN</td>\n    </tr>\n    <tr>\n      <th>15614</th>\n      <td>southern meatloaf</td>\n      <td>4</td>\n      <td>12</td>\n      <td>['preheat to 350f', 'mix all ingredients excep...</td>\n      <td>['ground beef', 'saltine crumbs', 'egg', 'milk...</td>\n      <td>2.0</td>\n      <td>NaN</td>\n    </tr>\n    <tr>\n      <th>31050</th>\n      <td>kulikuli  peanut balls</td>\n      <td>7</td>\n      <td>6</td>\n      <td>['grind or pound the nuts adding just enough o...</td>\n      <td>['roasted peanuts', 'peanut oil', 'onion', 'ca...</td>\n      <td>1.0</td>\n      <td>180.0</td>\n    </tr>\n  </tbody>\n</table>\n</div>"
     },
     "metadata": {},
     "execution_count": 53
    }
   ],
   "source": [
    "data = preprocess('recipe_train.csv', convert_to_seconds=True)\n",
    "data.sample(20)"
   ]
  },
  {
   "cell_type": "code",
   "execution_count": 54,
   "metadata": {},
   "outputs": [
    {
     "output_type": "stream",
     "name": "stderr",
     "text": [
      "Converting...: 100%|██████████| 10000/10000 [00:21<00:00, 473.43it/s]\n"
     ]
    },
    {
     "output_type": "execute_result",
     "data": {
      "text/plain": [
       "                                                   name  n_steps  \\\n",
       "8561                       hill country cocoa pecan pie       22   \n",
       "8576                      slow simmered spaghetti sauce        3   \n",
       "7136                              vietnamese lemon rice        6   \n",
       "1388                                 beef curry pillows       24   \n",
       "5849                        hazelnut shortbread buttons       13   \n",
       "4690             kellys lime chiffon cheesecake dessert       12   \n",
       "3181                    coconut creamed rice  microwave        7   \n",
       "496                                quick chicken kebabs       11   \n",
       "2994                              butter crunch squares       13   \n",
       "2726                              cobbed corn with kick        6   \n",
       "6854    mojito pie  lower fat than regular key lime pie       14   \n",
       "8095                             polish applesauce cake        8   \n",
       "9872                             monica s beef teriyaki       10   \n",
       "7172                              yummy pepperoni bites        6   \n",
       "8463  indonesian coconut rice with chicken and zucchini       15   \n",
       "8321                                          peperonta        6   \n",
       "653               real cajun gumbo  from a louisianaian       20   \n",
       "8285                         coney island hot dog chili        8   \n",
       "5426  bacon and sun dried tomato alfredo pasta  ww r...       10   \n",
       "1984                               smoked oyster heaven        7   \n",
       "\n",
       "      n_ingredients                                              steps  \\\n",
       "8561             10  ['preheat oven to 350 degrees', 'lightly greas...   \n",
       "8576              9  ['combine all ingredients in a 4-quart slow co...   \n",
       "7136              6  ['wash rice until water runs clear , then drai...   \n",
       "1388             12  ['brown the ground beef with the onion', 'remo...   \n",
       "5849              5  ['toast the hazelnuts in a 180c oven for 5 min...   \n",
       "4690             10  ['mix crust ingredients , save aside 2 tablesp...   \n",
       "3181              7  ['place rice in a colander & wash under cold w...   \n",
       "496               9  ['put chicken , onions , garlic , chillies , b...   \n",
       "2994              6  ['grease a 12 by 17 inch cookie sheet with sid...   \n",
       "2726              5  ['place corn , peppers and onion in deep dish ...   \n",
       "6854             11  ['pre heat oven to 350 degrees', 'in a food pr...   \n",
       "8095             12  ['preheat oven to 350', 'cream butter and suga...   \n",
       "9872             10  ['put cut sirloin pieces in a 13x9 glass bakin...   \n",
       "7172              4  ['arrange bread slices on a baking sheet using...   \n",
       "8463             14  ['in a large deep frying pan or dutch oven , h...   \n",
       "8321             10  ['heat olive oil in a large skillet', 'add oni...   \n",
       "653              16  ['using a sharp boning knife cut the stewing h...   \n",
       "8285             13  ['saute onion , green pepper and garlic in oil...   \n",
       "5426              6  ['cook pasta according to package directions',...   \n",
       "1984              8  ['mix together the cream cheese , cilantro , l...   \n",
       "\n",
       "                                            ingredients  seconds  \n",
       "8561  ['all-purpose flour', 'butter', 'salt', 'water...   5700.0  \n",
       "8576  ['garlic', 'onion', 'italian-style tomatoes', ...  21600.0  \n",
       "7136  ['jasmine rice', 'water', 'salt', 'olive oil',...   1200.0  \n",
       "1388  ['ground beef', 'white onion', 'green curry pa...   3600.0  \n",
       "5849  ['butter', 'icing sugar', 'cornflour', 'flour'...   2100.0  \n",
       "4690  ['graham cracker crumbs', 'sugar', 'butter', '...  10800.0  \n",
       "3181  ['arborio rice', 'coconut milk', 'water', 'uns...   1740.0  \n",
       "496   ['chicken breasts', 'onions', 'dried garlic', ...   3600.0  \n",
       "2994  ['unsalted saltine crackers', 'butter', 'light...   1680.0  \n",
       "2726  ['italian salad dressing', 'ears of corn', 're...   3300.0  \n",
       "6854  ['heavy cream', 'powdered sugar', 'rum extract...  16500.0  \n",
       "8095  ['butter', 'sugar', 'vanilla', 'eggs', 'flour'...   2700.0  \n",
       "9872  ['sirloin tip roast', 'onion', 'garlic', 'ging...  10800.0  \n",
       "7172  ['pepperoni', 'french bread', 'mozzarella chee...     60.0  \n",
       "8463  ['cooking oil', 'chicken thighs', 'salt', 'bla...   2520.0  \n",
       "8321  ['olive oil', 'red onion', 'yellow bell pepper...   2100.0  \n",
       "653   ['stewing chicken', 'andouille sausage', 'oil'...   6600.0  \n",
       "8285  ['oil', 'onion', 'green pepper', 'garlic', 'le...   2580.0  \n",
       "5426  ['multi-grain penne', 'low-fat alfredo sauce',...    480.0  \n",
       "1984  ['cream cheese', 'cilantro', 'fresh lime juice...      NaN  "
      ],
      "text/html": "<div>\n<style scoped>\n    .dataframe tbody tr th:only-of-type {\n        vertical-align: middle;\n    }\n\n    .dataframe tbody tr th {\n        vertical-align: top;\n    }\n\n    .dataframe thead th {\n        text-align: right;\n    }\n</style>\n<table border=\"1\" class=\"dataframe\">\n  <thead>\n    <tr style=\"text-align: right;\">\n      <th></th>\n      <th>name</th>\n      <th>n_steps</th>\n      <th>n_ingredients</th>\n      <th>steps</th>\n      <th>ingredients</th>\n      <th>seconds</th>\n    </tr>\n  </thead>\n  <tbody>\n    <tr>\n      <th>8561</th>\n      <td>hill country cocoa pecan pie</td>\n      <td>22</td>\n      <td>10</td>\n      <td>['preheat oven to 350 degrees', 'lightly greas...</td>\n      <td>['all-purpose flour', 'butter', 'salt', 'water...</td>\n      <td>5700.0</td>\n    </tr>\n    <tr>\n      <th>8576</th>\n      <td>slow simmered spaghetti sauce</td>\n      <td>3</td>\n      <td>9</td>\n      <td>['combine all ingredients in a 4-quart slow co...</td>\n      <td>['garlic', 'onion', 'italian-style tomatoes', ...</td>\n      <td>21600.0</td>\n    </tr>\n    <tr>\n      <th>7136</th>\n      <td>vietnamese lemon rice</td>\n      <td>6</td>\n      <td>6</td>\n      <td>['wash rice until water runs clear , then drai...</td>\n      <td>['jasmine rice', 'water', 'salt', 'olive oil',...</td>\n      <td>1200.0</td>\n    </tr>\n    <tr>\n      <th>1388</th>\n      <td>beef curry pillows</td>\n      <td>24</td>\n      <td>12</td>\n      <td>['brown the ground beef with the onion', 'remo...</td>\n      <td>['ground beef', 'white onion', 'green curry pa...</td>\n      <td>3600.0</td>\n    </tr>\n    <tr>\n      <th>5849</th>\n      <td>hazelnut shortbread buttons</td>\n      <td>13</td>\n      <td>5</td>\n      <td>['toast the hazelnuts in a 180c oven for 5 min...</td>\n      <td>['butter', 'icing sugar', 'cornflour', 'flour'...</td>\n      <td>2100.0</td>\n    </tr>\n    <tr>\n      <th>4690</th>\n      <td>kellys lime chiffon cheesecake dessert</td>\n      <td>12</td>\n      <td>10</td>\n      <td>['mix crust ingredients , save aside 2 tablesp...</td>\n      <td>['graham cracker crumbs', 'sugar', 'butter', '...</td>\n      <td>10800.0</td>\n    </tr>\n    <tr>\n      <th>3181</th>\n      <td>coconut creamed rice  microwave</td>\n      <td>7</td>\n      <td>7</td>\n      <td>['place rice in a colander &amp; wash under cold w...</td>\n      <td>['arborio rice', 'coconut milk', 'water', 'uns...</td>\n      <td>1740.0</td>\n    </tr>\n    <tr>\n      <th>496</th>\n      <td>quick chicken kebabs</td>\n      <td>11</td>\n      <td>9</td>\n      <td>['put chicken , onions , garlic , chillies , b...</td>\n      <td>['chicken breasts', 'onions', 'dried garlic', ...</td>\n      <td>3600.0</td>\n    </tr>\n    <tr>\n      <th>2994</th>\n      <td>butter crunch squares</td>\n      <td>13</td>\n      <td>6</td>\n      <td>['grease a 12 by 17 inch cookie sheet with sid...</td>\n      <td>['unsalted saltine crackers', 'butter', 'light...</td>\n      <td>1680.0</td>\n    </tr>\n    <tr>\n      <th>2726</th>\n      <td>cobbed corn with kick</td>\n      <td>6</td>\n      <td>5</td>\n      <td>['place corn , peppers and onion in deep dish ...</td>\n      <td>['italian salad dressing', 'ears of corn', 're...</td>\n      <td>3300.0</td>\n    </tr>\n    <tr>\n      <th>6854</th>\n      <td>mojito pie  lower fat than regular key lime pie</td>\n      <td>14</td>\n      <td>11</td>\n      <td>['pre heat oven to 350 degrees', 'in a food pr...</td>\n      <td>['heavy cream', 'powdered sugar', 'rum extract...</td>\n      <td>16500.0</td>\n    </tr>\n    <tr>\n      <th>8095</th>\n      <td>polish applesauce cake</td>\n      <td>8</td>\n      <td>12</td>\n      <td>['preheat oven to 350', 'cream butter and suga...</td>\n      <td>['butter', 'sugar', 'vanilla', 'eggs', 'flour'...</td>\n      <td>2700.0</td>\n    </tr>\n    <tr>\n      <th>9872</th>\n      <td>monica s beef teriyaki</td>\n      <td>10</td>\n      <td>10</td>\n      <td>['put cut sirloin pieces in a 13x9 glass bakin...</td>\n      <td>['sirloin tip roast', 'onion', 'garlic', 'ging...</td>\n      <td>10800.0</td>\n    </tr>\n    <tr>\n      <th>7172</th>\n      <td>yummy pepperoni bites</td>\n      <td>6</td>\n      <td>4</td>\n      <td>['arrange bread slices on a baking sheet using...</td>\n      <td>['pepperoni', 'french bread', 'mozzarella chee...</td>\n      <td>60.0</td>\n    </tr>\n    <tr>\n      <th>8463</th>\n      <td>indonesian coconut rice with chicken and zucchini</td>\n      <td>15</td>\n      <td>14</td>\n      <td>['in a large deep frying pan or dutch oven , h...</td>\n      <td>['cooking oil', 'chicken thighs', 'salt', 'bla...</td>\n      <td>2520.0</td>\n    </tr>\n    <tr>\n      <th>8321</th>\n      <td>peperonta</td>\n      <td>6</td>\n      <td>10</td>\n      <td>['heat olive oil in a large skillet', 'add oni...</td>\n      <td>['olive oil', 'red onion', 'yellow bell pepper...</td>\n      <td>2100.0</td>\n    </tr>\n    <tr>\n      <th>653</th>\n      <td>real cajun gumbo  from a louisianaian</td>\n      <td>20</td>\n      <td>16</td>\n      <td>['using a sharp boning knife cut the stewing h...</td>\n      <td>['stewing chicken', 'andouille sausage', 'oil'...</td>\n      <td>6600.0</td>\n    </tr>\n    <tr>\n      <th>8285</th>\n      <td>coney island hot dog chili</td>\n      <td>8</td>\n      <td>13</td>\n      <td>['saute onion , green pepper and garlic in oil...</td>\n      <td>['oil', 'onion', 'green pepper', 'garlic', 'le...</td>\n      <td>2580.0</td>\n    </tr>\n    <tr>\n      <th>5426</th>\n      <td>bacon and sun dried tomato alfredo pasta  ww r...</td>\n      <td>10</td>\n      <td>6</td>\n      <td>['cook pasta according to package directions',...</td>\n      <td>['multi-grain penne', 'low-fat alfredo sauce',...</td>\n      <td>480.0</td>\n    </tr>\n    <tr>\n      <th>1984</th>\n      <td>smoked oyster heaven</td>\n      <td>7</td>\n      <td>8</td>\n      <td>['mix together the cream cheese , cilantro , l...</td>\n      <td>['cream cheese', 'cilantro', 'fresh lime juice...</td>\n      <td>NaN</td>\n    </tr>\n  </tbody>\n</table>\n</div>"
     },
     "metadata": {},
     "execution_count": 54
    }
   ],
   "source": [
    "test_data = preprocess('recipe_test.csv', convert_to_seconds=True)\n",
    "test_data.sample(20)"
   ]
  },
  {
   "cell_type": "code",
   "execution_count": 55,
   "metadata": {},
   "outputs": [
    {
     "output_type": "stream",
     "name": "stdout",
     "text": [
      "3868.6148775189154\n4546.9969594080985\n28783.782587309393\n"
     ]
    },
    {
     "output_type": "execute_result",
     "data": {
      "text/plain": [
       "'[\\'in a measuring cup , combine sour cream and lemon juice\\', \\'add enough of the milk to make 1 / 2 cup\\', \"place all bread ingredients in bread machine according to your manufacturer\\'s directions\", \\'select sweet bread or basic setting\\', \\'do not use timer delay for this recipe\\', \\'for spread , beat all ingredients together until smooth\\']'"
      ]
     },
     "metadata": {},
     "execution_count": 55
    }
   ],
   "source": [
    "print(np.mean(data.loc[data['duration_label']==1.0]['seconds']))\n",
    "print(np.mean(data.loc[data['duration_label']==2.0]['seconds']))\n",
    "print(np.mean(data.loc[data['duration_label']==3.0]['seconds']))\n",
    "data['steps'].iloc[39995]"
   ]
  },
  {
   "cell_type": "code",
   "execution_count": 109,
   "id": "medieval-clerk",
   "metadata": {},
   "outputs": [
    {
     "output_type": "stream",
     "name": "stdout",
     "text": [
      "Counter({1.0: 4356, 2.0: 513, 3.0: 16})\n['cook on light cycle in your bread maker machine']\n['for the artichoke hearts i have used either the jarred marinated or frozen hearts-thawed', 'make the cocktail dressing first by combining the mayonnaise , chili sauce , parsley , worcestershire , and black pepper', 'cover and chill', 'cut grapefruits in half', 'remove the fruit segments with a serrated spoon', 'cut the fruit segments up into bite sized pieces and toss with the lemon juice', 'clean out the grapefruit shells and remove pith', 'set aside', 'in a bowl gently mix the grapefruit , shrimp , cayenne and rum', 'cut the marinated artichokes up into bite sized pieces and combine with the grapefruit / shrimp mixture', 'if using frozen artichoke hearts , squeeze out the excess moisture gently with your hands', 'divide the mixture and spoon into the grapefruit shells', 'divide and spoon the cocktail dressing on top of each grapefruit shell', 'garnish with lemon slices and fresh parsley', 'serve immediately']\n['whisk or stir together all ingredients', 'place meat in a rectangular shaped pan or dish and pour marinade over all contents', 'turn and move pieces to ensure best coverage of marinade', 'marinate for 4 or more hours', 'grill until cooked thoroughly !']\n['mix all but walnuts together', 'top with the walnuts , then chill']\n['mix graham cracker crumbs and milk until well blended', 'add remaining ingredients until well blened', 'mixture will be very stiff', 'pack into a christmas mold , which has been sprayed with oil , or form into logs and wrap with wax paper', 'cover and keep refrigerated', 'remove from mold just before serving']\n['put the ingredients into the pan in order listed , making sure the yeast is on the top', 'press the start button']\n['drain pimientos , but save juice', \"combine pimientos with mayo , toss with cheese'til thoroughly mixed\", 'add pecans , hot sauce to your taste , s&p to taste , add the reserved pimiento juice to bring cheese spread to desired consistency', 'chill', 'serve as sandwich spread , cracker dip , veggie dip or just eat it off a spoon !']\n['combine ingredients in the order given', 'bake on regular cycle', 'a', 'starter should be peaking when loaded into your machine , frothy and bubbly , not just foamy', 'optimum room temp for culture activation and machine baking is 85 degrees']\n['combine the gelatin , sugar and salt in a bowl', 'add the boiling water and stir until the gelatin dissolves', 'add in the lemonade concentrate', 'chill just until the gelatin begins to set around the edges', 'add in the whipped cream', 'spoon into either 8-10 individual molds or a 4 cup mold', 'chill until set , then unmold on a serving plate', 'if using a 4 cup mold , arrange all the fruit around the mold', 'if using individual molds , arrange about 1 / 2 c of fruit around each mold', 'garnish with mint leaves']\n['put meat in a roasting pan surrounded by onions , carrots and celery', 'sprinkle all over the top of meat and veggies: oregano , garlic powder or use a clove or 2 of fresh , onion powder , salt , pepper , thyme or rosemary pour 2 cans cream of anything soup on top', 'dump a 24 oz can of whole or stewed tomatoes over top', 'bake covered at 300 til tender', 'when done throw all veggies in a bowl with sauce and roast on a plate']\n"
     ]
    },
    {
     "output_type": "execute_result",
     "data": {
      "text/plain": [
       "[[None],\n",
       " [None],\n",
       " [None],\n",
       " [None],\n",
       " [None],\n",
       " [None],\n",
       " [None],\n",
       " [None],\n",
       " [None],\n",
       " [None]]"
      ]
     },
     "metadata": {},
     "execution_count": 109
    }
   ],
   "source": [
    "# Evaluate this new feature\n",
    "train_data = data.loc[:,['n_steps','n_ingredients','seconds','steps','duration_label']]\n",
    "\n",
    "# Why is the time missing?\n",
    "missing_time_data = train_data.loc[np.isnan(train_data['seconds'])]\n",
    "print(Counter(missing_time_data['duration_label']))\n",
    "\n",
    "# How did the steps for different lengths look like, given that no timing is found?\n",
    "long_missing = missing_time_data.loc[missing_time_data['duration_label']==3, ['steps']]\n",
    "#long_missing.head(10)\n",
    "[[print(s) for s in long_missing.iloc[i]] for i in range(10)]"
   ]
  },
  {
   "cell_type": "code",
   "execution_count": 57,
   "metadata": {},
   "outputs": [
    {
     "output_type": "stream",
     "name": "stderr",
     "text": [
      "Converting...: 100%|██████████| 10000/10000 [00:23<00:00, 418.80it/s]\n",
      "C:\\Users\\HP OMEN 15\\AppData\\Local\\Programs\\Python\\Python36\\lib\\site-packages\\sklearn\\svm\\_base.py:947: ConvergenceWarning: Liblinear failed to converge, increase the number of iterations.\n",
      "  \"the number of iterations.\", ConvergenceWarning)\n",
      "C:\\Users\\HP OMEN 15\\AppData\\Local\\Programs\\Python\\Python36\\lib\\site-packages\\sklearn\\linear_model\\_logistic.py:940: ConvergenceWarning: lbfgs failed to converge (status=1):\n",
      "STOP: TOTAL NO. of ITERATIONS REACHED LIMIT.\n",
      "\n",
      "Increase the number of iterations (max_iter) or scale the data as shown in:\n",
      "    https://scikit-learn.org/stable/modules/preprocessing.html\n",
      "Please also refer to the documentation for alternative solver options:\n",
      "    https://scikit-learn.org/stable/modules/linear_model.html#logistic-regression\n",
      "  extra_warning_msg=_LOGISTIC_SOLVER_CONVERGENCE_MSG)\n"
     ]
    }
   ],
   "source": [
    "# We'll fix it later. For now, let's try and predict with the existing values first\n",
    "from sklearn.experimental import enable_iterative_imputer\n",
    "from sklearn.impute import IterativeImputer, SimpleImputer\n",
    "\n",
    "\n",
    "train_data = data.loc[np.isnan(data['seconds']) == False,['n_steps','n_ingredients','seconds','duration_label']]\n",
    "Xseconds = data.loc[np.isnan(data['seconds']) == False,['seconds']]\n",
    "X=train_data.iloc[:,:-1]\n",
    "Y=train_data.iloc[:,-1]\n",
    "\n",
    "#imp = IterativeImputer(max_iter=10, random_state=0)\n",
    "imp = SimpleImputer(missing_values=np.nan, strategy='mean')\n",
    "imp.fit(X)\n",
    "\n",
    "test_data = preprocess('recipe_test.csv', convert_to_seconds=True)\n",
    "X_test = test_data.reindex(columns=['n_steps','n_ingredients','seconds'])\n",
    "X_test = imp.transform(X_test)\n",
    "# Y_test = clf.predict(X_test)\n",
    "\n",
    "# out = pd.DataFrame({'duration_label':Y_test})\n",
    "# out.index += 1\n",
    "# out.to_csv('output/output.csv',index_label = 'id')\n",
    "\n",
    "models = [DummyClassifier(strategy='most_frequent'),\n",
    "            GaussianNB(),\n",
    "            LinearSVC(),\n",
    "            DecisionTreeClassifier(),\n",
    "            KNeighborsClassifier(),\n",
    "            LogisticRegression()]\n",
    "\n",
    "titles = ['0r',\n",
    "          'nb',\n",
    "          'LinearSVC',\n",
    "          'decision_tree',\n",
    "          'knn',\n",
    "          'logistic_regression']\n",
    "\n",
    "for title, model in zip(titles, models):\n",
    "    model.fit(X,Y)\n",
    "    Y_test = model.predict(X_test)\n",
    "    out = pd.DataFrame({'duration_label':Y_test})\n",
    "    out.index += 1\n",
    "    out.to_csv('output/out_'+title+'.csv',index_label = 'id')"
   ]
  },
  {
   "cell_type": "markdown",
   "id": "surprised-therapist",
   "metadata": {},
   "source": [
    "## Data visualization"
   ]
  },
  {
   "cell_type": "code",
   "execution_count": 80,
   "id": "level-awareness",
   "metadata": {},
   "outputs": [
    {
     "data": {
      "text/plain": [
       "<AxesSubplot:xlabel='n_steps', ylabel='n_ingredients'>"
      ]
     },
     "execution_count": 80,
     "metadata": {},
     "output_type": "execute_result"
    },
    {
     "data": {
      "image/png": "[encoded data removed]",
      "text/plain": [
       "<Figure size 432x288 with 1 Axes>"
      ]
     },
     "metadata": {
      "needs_background": "light"
     },
     "output_type": "display_data"
    }
   ],
   "source": [
    "curr_dir = os.path.dirname(os.path.realpath('__file__'))\n",
    "train_file = os.path.join(curr_dir, 'COMP30027_2021_Project2_datasets\\\\recipe_train.csv')\n",
    "\n",
    "data = pd.read_csv(train_file, index_col = False, delimiter = ',')\n",
    "\n",
    "numeric_data = data[['n_steps', 'n_ingredients', 'duration_label']]\n",
    "\n",
    "y = data['duration_label']\n",
    "\n",
    "sns.scatterplot(data=numeric_data, x=\"n_steps\", y=\"n_ingredients\", hue=\"duration_label\", palette=\"deep\")"
   ]
  },
  {
   "cell_type": "markdown",
   "id": "helpful-traffic",
   "metadata": {},
   "source": [
    "## Part 1: Single model training and evaluation"
   ]
  },
  {
   "cell_type": "code",
   "execution_count": null,
   "id": "precise-hampton",
   "metadata": {},
   "outputs": [],
   "source": []
  },
  {
   "cell_type": "markdown",
   "id": "blank-intelligence",
   "metadata": {},
   "source": [
    "## Part 2: Classifier combination training and evaluation"
   ]
  },
  {
   "cell_type": "code",
   "execution_count": null,
   "id": "subtle-attitude",
   "metadata": {},
   "outputs": [],
   "source": []
  }
 ],
 "metadata": {
  "kernelspec": {
   "name": "python368jvsc74a57bd04621005da5c26ac209901ca167bf25025457b064ec855aea9ba97365ac8d4984",
   "display_name": "Python 3.6.8 64-bit"
  },
  "language_info": {
   "codemirror_mode": {
    "name": "ipython",
    "version": 3
   },
   "file_extension": ".py",
   "mimetype": "text/x-python",
   "name": "python",
   "nbconvert_exporter": "python",
   "pygments_lexer": "ipython3",
   "version": "3.6.8"
  }
 },
 "nbformat": 4,
 "nbformat_minor": 5
}