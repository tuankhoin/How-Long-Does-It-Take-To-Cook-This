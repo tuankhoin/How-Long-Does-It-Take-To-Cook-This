{
 "metadata": {
  "language_info": {
   "codemirror_mode": {
    "name": "ipython",
    "version": 3
   },
   "file_extension": ".py",
   "mimetype": "text/x-python",
   "name": "python",
   "nbconvert_exporter": "python",
   "pygments_lexer": "ipython3",
   "version": "3.6.8"
  },
  "orig_nbformat": 2,
  "kernelspec": {
   "name": "python368jvsc74a57bd04621005da5c26ac209901ca167bf25025457b064ec855aea9ba97365ac8d4984",
   "display_name": "Python 3.6.8 64-bit"
  }
 },
 "nbformat": 4,
 "nbformat_minor": 2,
 "cells": [
  {
   "cell_type": "code",
   "execution_count": 8,
   "metadata": {},
   "outputs": [],
   "source": [
    "import matplotlib.pyplot as plt\n",
    "import seaborn as sns\n",
    "import scipy\n",
    "import os\n",
    "import pandas as pd\n",
    "import numpy as np\n",
    "import re\n",
    "import time\n",
    "import pickle\n",
    "\n",
    "from sklearn.model_selection import train_test_split\n",
    "from sklearn.svm import LinearSVC, SVC\n",
    "from sklearn.naive_bayes import GaussianNB, MultinomialNB\n",
    "from sklearn.dummy import DummyClassifier\n",
    "from sklearn.tree import DecisionTreeClassifier\n",
    "from sklearn.neighbors import KNeighborsClassifier\n",
    "from sklearn import datasets, svm\n",
    "from sklearn.linear_model import LogisticRegression\n",
    "from sklearn.feature_extraction.text import CountVectorizer, TfidfTransformer\n",
    "from sklearn.feature_selection import SelectPercentile, SelectFpr, chi2, mutual_info_classif\n",
    "from sklearn.model_selection import cross_val_score\n",
    "from sklearn.ensemble import RandomForestClassifier, AdaBoostClassifier, BaggingClassifier\n",
    "from sklearn.metrics import classification_report, accuracy_score, confusion_matrix\n",
    "\n",
    "from tqdm import tqdm,trange\n",
    "from collections import defaultdict,Counter\n",
    "from text_to_num import text2num,alpha2digit\n",
    "from mlxtend.classifier import StackingCVClassifier\n",
    "\n",
    "import warnings\n",
    "from sklearn.exceptions import DataConversionWarning\n",
    "warnings.filterwarnings(action='ignore', category=DataConversionWarning)"
   ]
  },
  {
   "cell_type": "code",
   "execution_count": 2,
   "metadata": {},
   "outputs": [],
   "source": [
    "def preprocess(file, \n",
    "               process = None, \n",
    "               convert_to_seconds = False):\n",
    "    curr_dir = os.path.dirname(os.path.realpath('__file__'))\n",
    "    if not process:\n",
    "        train_file = os.path.join(curr_dir, 'COMP30027_2021_Project2_datasets\\\\'+file)\n",
    "    else:\n",
    "        train_file = os.path.join(curr_dir, 'COMP30027_2021_Project2_datasets\\\\recipe_text_features_' + process + '\\\\' + file)\n",
    "\n",
    "    data = pd.read_csv(train_file, index_col = False, delimiter = ',')\n",
    "    if convert_to_seconds:\n",
    "        tqdm.pandas(desc=\"Converting...\")\n",
    "        data['seconds'] = data['steps'].progress_apply(convert_step_to_time)\n",
    "    return data"
   ]
  },
  {
   "cell_type": "code",
   "execution_count": 3,
   "metadata": {},
   "outputs": [],
   "source": [
    "time_retrieval = lambda words, sentence : re.findall(re.compile('|'.join(\n",
    "        [n + w + \"\\\\b\" for w in words for n in [\"[0-9]+\\s*\",\"another \",\"few \",\"a \",\"an \",\"several \"]])), sentence)\n",
    "\n",
    "kw_retrieval = lambda words, sentence : re.findall(re.compile('|'.join(\n",
    "        [\"\\\\b\" + w + \"\\\\b\" for w in words])), sentence)\n",
    "\n",
    "def convert_step_to_time(step, keyword_check = True):\n",
    "    total_time = 0 # in seconds\n",
    "    times = defaultdict(list)\n",
    "    time_unit = {\"second\":1, \"minute\":60, \"hour\":60*60}\n",
    "    kw_dict = {\"overnight\":8, \"night\":8, \"nights\":8, \"freeze\":5, \"refrigerate\":3,\n",
    "               \"day\":12, \"cook on low\":7, \"slow cook\":7, \"crockpot\":7, \"crock pot\":7,\n",
    "               \"cook low\":7, \"boil\":1, \"heat\":1, \"bread machine\":1.5\n",
    "               }\n",
    "    \n",
    "    # Iterate through each step to find time value using RE\n",
    "    numeric_step = alpha2digit(step,'en')\n",
    "    times[\"second\"] = time_retrieval([\"more seconds\",\"more second\",\"more secs\",\"more sec\",\"seconds\",\"second\",\"secs\",\"sec\",\"s\"],numeric_step)\n",
    "    times[\"minute\"] = time_retrieval([\"more minutes\",\"more minute\",\"more min\",\"more mins\",\"minutes\",\"minute\",\"min\",\"mins\",\"m\",\"ms\"],numeric_step)\n",
    "    times[\"hour\"] = time_retrieval([\"more hours\",\"more hour\",\"more hrs\",\"more hr\",\"hours\",\"hour\",\"hrs\",\"hr\",\"h\",\"hs\"],numeric_step)\n",
    "    special_keywords = kw_retrieval(kw_dict.keys(),numeric_step) if keyword_check else None\n",
    "\n",
    "    for unit in time_unit.keys():\n",
    "        #total_time += sum([float(re.findall(r'[0-9]+',t.split()[0])[0]) * time_unit[unit] for t in times[unit]])\n",
    "        count = 0\n",
    "        for t in times[unit]:\n",
    "            numerator = t.split()[0]\n",
    "\n",
    "            if numerator in [\"another\",\"a\",\"an\"]:\n",
    "                count = 1\n",
    "            elif numerator in [\"few\",\"several\"]:\n",
    "                count = 4\n",
    "            else:\n",
    "                count = float(re.findall(r'[0-9]+',numerator)[0])\n",
    "\n",
    "            total_time += count * time_unit[unit]\n",
    "\n",
    "    if keyword_check and not total_time and special_keywords:\n",
    "        total_time += 60*60*kw_dict[special_keywords[0]]\n",
    "\n",
    "    if total_time == 0:\n",
    "        return None\n",
    "    return total_time"
   ]
  },
  {
   "cell_type": "code",
   "execution_count": 3,
   "metadata": {},
   "outputs": [],
   "source": [
    "train_data = pd.read_csv('COMP30027_2021_Project2_datasets\\\\recipe_train.csv')\n",
    "train_data_50 = pd.read_csv('COMP30027_2021_Project2_datasets\\\\recipe_text_features_doc2vec50\\\\train_steps_doc2vec50.csv',header=None, names = ['coord'+str(i) for i in range(50)])"
   ]
  },
  {
   "cell_type": "code",
   "execution_count": 10,
   "metadata": {},
   "outputs": [
    {
     "output_type": "execute_result",
     "data": {
      "text/plain": [
       "       n_steps  n_ingredients    coord0    coord1    coord2    coord3  \\\n",
       "0            6             12  0.294882  0.291131  0.779709  0.634566   \n",
       "1            9              5  0.752555 -1.072124  1.875412  0.247283   \n",
       "2           15             10  0.002207  0.722088  0.810733 -0.191287   \n",
       "3           10              8 -0.293604  0.393680  0.460519  0.049180   \n",
       "4            6              5  0.388302  0.030247  0.680402 -0.275467   \n",
       "...        ...            ...       ...       ...       ...       ...   \n",
       "39995        6             13 -0.585818  0.790814  0.655565 -1.305637   \n",
       "39996       15             16 -1.499155 -0.543401  1.016098  0.893885   \n",
       "39997        5              8  0.551546  0.789452  0.534483 -0.565389   \n",
       "39998        7             17 -0.258097 -0.503870  0.473143  0.121228   \n",
       "39999        6             11 -0.695206  0.942176  0.745002  0.303001   \n",
       "\n",
       "         coord4    coord5    coord6    coord7  ...   coord40   coord41  \\\n",
       "0     -0.658954 -2.018979  0.366450  0.125453  ...  0.524914 -0.059248   \n",
       "1      0.184581  1.093477  0.985011 -0.111624  ... -1.743889  0.805147   \n",
       "2     -1.167714 -1.248609 -1.362723 -1.567349  ...  0.333650 -0.673702   \n",
       "3      0.561528 -1.391731 -0.359667 -0.185326  ...  0.607433 -0.018920   \n",
       "4      0.248622 -0.108000 -0.078504 -0.457251  ...  0.214621 -0.520235   \n",
       "...         ...       ...       ...       ...  ...       ...       ...   \n",
       "39995  0.910338 -0.540507  0.469684 -0.645112  ...  0.066317 -0.529131   \n",
       "39996 -0.412951 -0.444333  0.244239 -0.988383  ... -1.246466  1.540797   \n",
       "39997 -1.286248  0.214225  1.214235 -0.286979  ...  0.454007 -1.052013   \n",
       "39998 -1.064937 -1.245729 -0.570034 -0.956063  ... -0.036450  0.486010   \n",
       "39999  0.479741  0.521935  0.894336 -0.407675  ... -0.472280 -0.493940   \n",
       "\n",
       "        coord42   coord43   coord44   coord45   coord46   coord47   coord48  \\\n",
       "0     -0.851974 -0.878965  0.110095  0.177768 -0.369561  0.355961 -0.481994   \n",
       "1     -0.825264  0.058763  1.868224 -1.211003 -2.073559  0.249009 -1.054287   \n",
       "2     -2.324360  0.687601 -0.939967 -1.561040 -0.732557 -0.939450  0.274603   \n",
       "3     -2.685916 -0.463611 -0.059493  1.212257 -0.245923 -0.432690 -0.592135   \n",
       "4      0.130486  0.211613  0.499143  0.743107 -0.426484  0.528443 -0.694904   \n",
       "...         ...       ...       ...       ...       ...       ...       ...   \n",
       "39995 -1.078020  0.445699 -0.757968  0.557478  0.097131  0.444583  0.556911   \n",
       "39996 -1.392812 -0.494735 -0.114502 -0.351079 -0.845888 -0.123080  0.474510   \n",
       "39997  0.496355  1.004171  0.237426 -1.293243  0.792720 -0.514634  1.201972   \n",
       "39998 -1.246498 -0.175695 -0.475982  0.737286 -0.400827  0.635068 -0.527436   \n",
       "39999 -0.794243  0.583683  0.414814 -0.204483  0.299525  0.685406 -0.623205   \n",
       "\n",
       "        coord49  \n",
       "0      0.356241  \n",
       "1     -0.293384  \n",
       "2     -0.620148  \n",
       "3      0.654083  \n",
       "4      0.264700  \n",
       "...         ...  \n",
       "39995  0.224863  \n",
       "39996  0.019088  \n",
       "39997  0.139259  \n",
       "39998  0.370146  \n",
       "39999  0.293269  \n",
       "\n",
       "[40000 rows x 52 columns]"
      ],
      "text/html": "<div>\n<style scoped>\n    .dataframe tbody tr th:only-of-type {\n        vertical-align: middle;\n    }\n\n    .dataframe tbody tr th {\n        vertical-align: top;\n    }\n\n    .dataframe thead th {\n        text-align: right;\n    }\n</style>\n<table border=\"1\" class=\"dataframe\">\n  <thead>\n    <tr style=\"text-align: right;\">\n      <th></th>\n      <th>n_steps</th>\n      <th>n_ingredients</th>\n      <th>coord0</th>\n      <th>coord1</th>\n      <th>coord2</th>\n      <th>coord3</th>\n      <th>coord4</th>\n      <th>coord5</th>\n      <th>coord6</th>\n      <th>coord7</th>\n      <th>...</th>\n      <th>coord40</th>\n      <th>coord41</th>\n      <th>coord42</th>\n      <th>coord43</th>\n      <th>coord44</th>\n      <th>coord45</th>\n      <th>coord46</th>\n      <th>coord47</th>\n      <th>coord48</th>\n      <th>coord49</th>\n    </tr>\n  </thead>\n  <tbody>\n    <tr>\n      <th>0</th>\n      <td>6</td>\n      <td>12</td>\n      <td>0.294882</td>\n      <td>0.291131</td>\n      <td>0.779709</td>\n      <td>0.634566</td>\n      <td>-0.658954</td>\n      <td>-2.018979</td>\n      <td>0.366450</td>\n      <td>0.125453</td>\n      <td>...</td>\n      <td>0.524914</td>\n      <td>-0.059248</td>\n      <td>-0.851974</td>\n      <td>-0.878965</td>\n      <td>0.110095</td>\n      <td>0.177768</td>\n      <td>-0.369561</td>\n      <td>0.355961</td>\n      <td>-0.481994</td>\n      <td>0.356241</td>\n    </tr>\n    <tr>\n      <th>1</th>\n      <td>9</td>\n      <td>5</td>\n      <td>0.752555</td>\n      <td>-1.072124</td>\n      <td>1.875412</td>\n      <td>0.247283</td>\n      <td>0.184581</td>\n      <td>1.093477</td>\n      <td>0.985011</td>\n      <td>-0.111624</td>\n      <td>...</td>\n      <td>-1.743889</td>\n      <td>0.805147</td>\n      <td>-0.825264</td>\n      <td>0.058763</td>\n      <td>1.868224</td>\n      <td>-1.211003</td>\n      <td>-2.073559</td>\n      <td>0.249009</td>\n      <td>-1.054287</td>\n      <td>-0.293384</td>\n    </tr>\n    <tr>\n      <th>2</th>\n      <td>15</td>\n      <td>10</td>\n      <td>0.002207</td>\n      <td>0.722088</td>\n      <td>0.810733</td>\n      <td>-0.191287</td>\n      <td>-1.167714</td>\n      <td>-1.248609</td>\n      <td>-1.362723</td>\n      <td>-1.567349</td>\n      <td>...</td>\n      <td>0.333650</td>\n      <td>-0.673702</td>\n      <td>-2.324360</td>\n      <td>0.687601</td>\n      <td>-0.939967</td>\n      <td>-1.561040</td>\n      <td>-0.732557</td>\n      <td>-0.939450</td>\n      <td>0.274603</td>\n      <td>-0.620148</td>\n    </tr>\n    <tr>\n      <th>3</th>\n      <td>10</td>\n      <td>8</td>\n      <td>-0.293604</td>\n      <td>0.393680</td>\n      <td>0.460519</td>\n      <td>0.049180</td>\n      <td>0.561528</td>\n      <td>-1.391731</td>\n      <td>-0.359667</td>\n      <td>-0.185326</td>\n      <td>...</td>\n      <td>0.607433</td>\n      <td>-0.018920</td>\n      <td>-2.685916</td>\n      <td>-0.463611</td>\n      <td>-0.059493</td>\n      <td>1.212257</td>\n      <td>-0.245923</td>\n      <td>-0.432690</td>\n      <td>-0.592135</td>\n      <td>0.654083</td>\n    </tr>\n    <tr>\n      <th>4</th>\n      <td>6</td>\n      <td>5</td>\n      <td>0.388302</td>\n      <td>0.030247</td>\n      <td>0.680402</td>\n      <td>-0.275467</td>\n      <td>0.248622</td>\n      <td>-0.108000</td>\n      <td>-0.078504</td>\n      <td>-0.457251</td>\n      <td>...</td>\n      <td>0.214621</td>\n      <td>-0.520235</td>\n      <td>0.130486</td>\n      <td>0.211613</td>\n      <td>0.499143</td>\n      <td>0.743107</td>\n      <td>-0.426484</td>\n      <td>0.528443</td>\n      <td>-0.694904</td>\n      <td>0.264700</td>\n    </tr>\n    <tr>\n      <th>...</th>\n      <td>...</td>\n      <td>...</td>\n      <td>...</td>\n      <td>...</td>\n      <td>...</td>\n      <td>...</td>\n      <td>...</td>\n      <td>...</td>\n      <td>...</td>\n      <td>...</td>\n      <td>...</td>\n      <td>...</td>\n      <td>...</td>\n      <td>...</td>\n      <td>...</td>\n      <td>...</td>\n      <td>...</td>\n      <td>...</td>\n      <td>...</td>\n      <td>...</td>\n      <td>...</td>\n    </tr>\n    <tr>\n      <th>39995</th>\n      <td>6</td>\n      <td>13</td>\n      <td>-0.585818</td>\n      <td>0.790814</td>\n      <td>0.655565</td>\n      <td>-1.305637</td>\n      <td>0.910338</td>\n      <td>-0.540507</td>\n      <td>0.469684</td>\n      <td>-0.645112</td>\n      <td>...</td>\n      <td>0.066317</td>\n      <td>-0.529131</td>\n      <td>-1.078020</td>\n      <td>0.445699</td>\n      <td>-0.757968</td>\n      <td>0.557478</td>\n      <td>0.097131</td>\n      <td>0.444583</td>\n      <td>0.556911</td>\n      <td>0.224863</td>\n    </tr>\n    <tr>\n      <th>39996</th>\n      <td>15</td>\n      <td>16</td>\n      <td>-1.499155</td>\n      <td>-0.543401</td>\n      <td>1.016098</td>\n      <td>0.893885</td>\n      <td>-0.412951</td>\n      <td>-0.444333</td>\n      <td>0.244239</td>\n      <td>-0.988383</td>\n      <td>...</td>\n      <td>-1.246466</td>\n      <td>1.540797</td>\n      <td>-1.392812</td>\n      <td>-0.494735</td>\n      <td>-0.114502</td>\n      <td>-0.351079</td>\n      <td>-0.845888</td>\n      <td>-0.123080</td>\n      <td>0.474510</td>\n      <td>0.019088</td>\n    </tr>\n    <tr>\n      <th>39997</th>\n      <td>5</td>\n      <td>8</td>\n      <td>0.551546</td>\n      <td>0.789452</td>\n      <td>0.534483</td>\n      <td>-0.565389</td>\n      <td>-1.286248</td>\n      <td>0.214225</td>\n      <td>1.214235</td>\n      <td>-0.286979</td>\n      <td>...</td>\n      <td>0.454007</td>\n      <td>-1.052013</td>\n      <td>0.496355</td>\n      <td>1.004171</td>\n      <td>0.237426</td>\n      <td>-1.293243</td>\n      <td>0.792720</td>\n      <td>-0.514634</td>\n      <td>1.201972</td>\n      <td>0.139259</td>\n    </tr>\n    <tr>\n      <th>39998</th>\n      <td>7</td>\n      <td>17</td>\n      <td>-0.258097</td>\n      <td>-0.503870</td>\n      <td>0.473143</td>\n      <td>0.121228</td>\n      <td>-1.064937</td>\n      <td>-1.245729</td>\n      <td>-0.570034</td>\n      <td>-0.956063</td>\n      <td>...</td>\n      <td>-0.036450</td>\n      <td>0.486010</td>\n      <td>-1.246498</td>\n      <td>-0.175695</td>\n      <td>-0.475982</td>\n      <td>0.737286</td>\n      <td>-0.400827</td>\n      <td>0.635068</td>\n      <td>-0.527436</td>\n      <td>0.370146</td>\n    </tr>\n    <tr>\n      <th>39999</th>\n      <td>6</td>\n      <td>11</td>\n      <td>-0.695206</td>\n      <td>0.942176</td>\n      <td>0.745002</td>\n      <td>0.303001</td>\n      <td>0.479741</td>\n      <td>0.521935</td>\n      <td>0.894336</td>\n      <td>-0.407675</td>\n      <td>...</td>\n      <td>-0.472280</td>\n      <td>-0.493940</td>\n      <td>-0.794243</td>\n      <td>0.583683</td>\n      <td>0.414814</td>\n      <td>-0.204483</td>\n      <td>0.299525</td>\n      <td>0.685406</td>\n      <td>-0.623205</td>\n      <td>0.293269</td>\n    </tr>\n  </tbody>\n</table>\n<p>40000 rows × 52 columns</p>\n</div>"
     },
     "metadata": {},
     "execution_count": 10
    }
   ],
   "source": [
    "train = pd.concat([train_data,train_data_50],axis=1)\n",
    "y = train['duration_label']\n",
    "x = train.drop(['name','steps','ingredients','duration_label'], axis=1)"
   ]
  },
  {
   "cell_type": "code",
   "execution_count": 18,
   "metadata": {},
   "outputs": [],
   "source": [
    "X_train, X_test, y_train, y_test = train_test_split(x, y, test_size=0.15, random_state=42)"
   ]
  },
  {
   "cell_type": "code",
   "execution_count": 5,
   "metadata": {},
   "outputs": [
    {
     "output_type": "stream",
     "name": "stdout",
     "text": [
      "Process takes  0.0 seconds\n"
     ]
    }
   ],
   "source": [
    "start = time.time()\n",
    "c1 = RandomForestClassifier(n_estimators=100,min_samples_split=50,min_samples_leaf=1, criterion='gini', n_jobs=-1, verbose=True)\n",
    "c2 = GaussianNB()\n",
    "c3 = LogisticRegression(solver='lbfgs', multi_class='multinomial', max_iter=1000, n_jobs=-1, verbose=False)\n",
    "lr = LogisticRegression(solver='lbfgs', multi_class='multinomial', max_iter=1000, n_jobs=-1, verbose=False)\n",
    "\n",
    "sclf = StackingCVClassifier(classifiers=[c1,c2,c3],\n",
    "                            meta_classifier=lr, use_probas=True, verbose=False)\n",
    "\n",
    "#sclf.fit(X_train,y_train)\n",
    "print('Process takes ',time.time()-start, 'seconds')"
   ]
  },
  {
   "cell_type": "code",
   "execution_count": 31,
   "metadata": {},
   "outputs": [
    {
     "output_type": "stream",
     "name": "stderr",
     "text": [
      "[Parallel(n_jobs=8)]: Using backend ThreadingBackend with 8 concurrent workers.\n[Parallel(n_jobs=8)]: Done  34 tasks      | elapsed:    0.0s\n[Parallel(n_jobs=8)]: Done 100 out of 100 | elapsed:    0.0s finished\n"
     ]
    },
    {
     "output_type": "execute_result",
     "data": {
      "text/plain": [
       "'              precision    recall  f1-score   support\\n\\n         1.0       0.72      0.71      0.71      2646\\n         2.0       0.72      0.77      0.74      3053\\n         3.0       0.49      0.20      0.28       301\\n\\n    accuracy                           0.71      6000\\n   macro avg       0.64      0.56      0.58      6000\\nweighted avg       0.71      0.71      0.71      6000\\n'"
      ]
     },
     "metadata": {},
     "execution_count": 31
    }
   ],
   "source": [
    "preds = pd.Series(sclf.predict(X_test))\n",
    "classification_report(y_test, preds)"
   ]
  },
  {
   "cell_type": "code",
   "execution_count": 32,
   "metadata": {},
   "outputs": [
    {
     "output_type": "stream",
     "name": "stdout",
     "text": [
      "Accuracy: 71.32%\n"
     ]
    }
   ],
   "source": [
    "print(f'Accuracy: {100*accuracy_score(preds, y_test):.2f}%')"
   ]
  },
  {
   "cell_type": "code",
   "execution_count": 33,
   "metadata": {},
   "outputs": [
    {
     "output_type": "stream",
     "name": "stdout",
     "text": [
      "Fitting 3 classifiers...\n",
      "Fitting classifier1: randomforestclassifier (1/3)\n",
      "[Parallel(n_jobs=1)]: Using backend SequentialBackend with 1 concurrent workers.\n",
      "[Parallel(n_jobs=-1)]: Using backend LokyBackend with 8 concurrent workers.\n",
      "[Parallel(n_jobs=-1)]: Done  52 tasks      | elapsed:    1.2s\n",
      "[Parallel(n_jobs=-1)]: Done 100 out of 100 | elapsed:    2.1s finished\n",
      "[Parallel(n_jobs=8)]: Using backend ThreadingBackend with 8 concurrent workers.\n",
      "[Parallel(n_jobs=8)]: Done  34 tasks      | elapsed:    0.0s\n",
      "[Parallel(n_jobs=8)]: Done 100 out of 100 | elapsed:    0.0s finished\n",
      "[Parallel(n_jobs=-1)]: Using backend LokyBackend with 8 concurrent workers.\n",
      "[Parallel(n_jobs=-1)]: Done  52 tasks      | elapsed:    1.1s\n",
      "[Parallel(n_jobs=-1)]: Done 100 out of 100 | elapsed:    2.1s finished\n",
      "[Parallel(n_jobs=8)]: Using backend ThreadingBackend with 8 concurrent workers.\n",
      "[Parallel(n_jobs=8)]: Done  34 tasks      | elapsed:    0.0s\n",
      "[Parallel(n_jobs=8)]: Done 100 out of 100 | elapsed:    0.0s finished\n",
      "[Parallel(n_jobs=1)]: Done   2 out of   2 | elapsed:    4.7s finished\n",
      "[Parallel(n_jobs=1)]: Using backend SequentialBackend with 1 concurrent workers.\n",
      "Fitting classifier2: gaussiannb (2/3)\n",
      "Fitting classifier3: logisticregression (3/3)\n",
      "[Parallel(n_jobs=1)]: Done   2 out of   2 | elapsed:    0.1s finished\n",
      "[Parallel(n_jobs=1)]: Using backend SequentialBackend with 1 concurrent workers.\n",
      "[Parallel(n_jobs=-1)]: Using backend LokyBackend with 8 concurrent workers.\n",
      "[Parallel(n_jobs=-1)]: Done   1 out of   1 | elapsed:    3.6s finished\n",
      "[Parallel(n_jobs=-1)]: Using backend LokyBackend with 8 concurrent workers.\n",
      "[Parallel(n_jobs=-1)]: Done   1 out of   1 | elapsed:    4.6s finished\n",
      "[Parallel(n_jobs=1)]: Done   2 out of   2 | elapsed:    8.4s finished\n",
      "[Parallel(n_jobs=-1)]: Using backend LokyBackend with 8 concurrent workers.\n",
      "[Parallel(n_jobs=-1)]: Done  34 tasks      | elapsed:    1.9s\n",
      "[Parallel(n_jobs=-1)]: Done 100 out of 100 | elapsed:    5.2s finished\n",
      "[Parallel(n_jobs=-1)]: Using backend LokyBackend with 8 concurrent workers.\n",
      "[Parallel(n_jobs=-1)]: Done   1 out of   1 | elapsed:    9.4s finished\n",
      "[Parallel(n_jobs=-1)]: Using backend LokyBackend with 8 concurrent workers.\n",
      "[Parallel(n_jobs=-1)]: Done   1 out of   1 | elapsed:    2.9s finished\n",
      "[Parallel(n_jobs=8)]: Using backend ThreadingBackend with 8 concurrent workers.\n",
      "[Parallel(n_jobs=8)]: Done  34 tasks      | elapsed:    0.0s\n",
      "[Parallel(n_jobs=8)]: Done 100 out of 100 | elapsed:    0.0s finished\n",
      "[Parallel(n_jobs=1)]: Using backend SequentialBackend with 1 concurrent workers.\n",
      "[Parallel(n_jobs=-1)]: Using backend LokyBackend with 8 concurrent workers.\n",
      "Fitting 3 classifiers...\n",
      "Fitting classifier1: randomforestclassifier (1/3)\n",
      "[Parallel(n_jobs=-1)]: Done  52 tasks      | elapsed:    1.2s\n",
      "[Parallel(n_jobs=-1)]: Done 100 out of 100 | elapsed:    2.1s finished\n",
      "[Parallel(n_jobs=8)]: Using backend ThreadingBackend with 8 concurrent workers.\n",
      "[Parallel(n_jobs=8)]: Done  34 tasks      | elapsed:    0.0s\n",
      "[Parallel(n_jobs=8)]: Done 100 out of 100 | elapsed:    0.0s finished\n",
      "[Parallel(n_jobs=-1)]: Using backend LokyBackend with 8 concurrent workers.\n",
      "[Parallel(n_jobs=-1)]: Done  52 tasks      | elapsed:    1.1s\n",
      "[Parallel(n_jobs=-1)]: Done 100 out of 100 | elapsed:    1.9s finished\n",
      "[Parallel(n_jobs=8)]: Using backend ThreadingBackend with 8 concurrent workers.\n",
      "[Parallel(n_jobs=8)]: Done  34 tasks      | elapsed:    0.0s\n",
      "[Parallel(n_jobs=8)]: Done 100 out of 100 | elapsed:    0.0s finished\n",
      "[Parallel(n_jobs=1)]: Done   2 out of   2 | elapsed:    4.5s finished\n",
      "[Parallel(n_jobs=1)]: Using backend SequentialBackend with 1 concurrent workers.\n",
      "Fitting classifier2: gaussiannb (2/3)\n",
      "Fitting classifier3: logisticregression (3/3)\n",
      "[Parallel(n_jobs=1)]: Done   2 out of   2 | elapsed:    0.0s finished\n",
      "[Parallel(n_jobs=1)]: Using backend SequentialBackend with 1 concurrent workers.\n",
      "[Parallel(n_jobs=-1)]: Using backend LokyBackend with 8 concurrent workers.\n",
      "[Parallel(n_jobs=-1)]: Done   1 out of   1 | elapsed:    3.3s finished\n",
      "[Parallel(n_jobs=-1)]: Using backend LokyBackend with 8 concurrent workers.\n",
      "[Parallel(n_jobs=-1)]: Done   1 out of   1 | elapsed:    4.4s finished\n",
      "[Parallel(n_jobs=1)]: Done   2 out of   2 | elapsed:    7.9s finished\n",
      "[Parallel(n_jobs=-1)]: Using backend LokyBackend with 8 concurrent workers.\n",
      "[Parallel(n_jobs=-1)]: Done  34 tasks      | elapsed:    1.7s\n",
      "[Parallel(n_jobs=-1)]: Done 100 out of 100 | elapsed:    4.7s finished\n",
      "[Parallel(n_jobs=-1)]: Using backend LokyBackend with 8 concurrent workers.\n",
      "[Parallel(n_jobs=-1)]: Done   1 out of   1 | elapsed:    7.4s finished\n",
      "[Parallel(n_jobs=-1)]: Using backend LokyBackend with 8 concurrent workers.\n",
      "[Parallel(n_jobs=-1)]: Done   1 out of   1 | elapsed:    2.8s finished\n",
      "[Parallel(n_jobs=8)]: Using backend ThreadingBackend with 8 concurrent workers.\n",
      "[Parallel(n_jobs=8)]: Done  34 tasks      | elapsed:    0.0s\n",
      "[Parallel(n_jobs=8)]: Done 100 out of 100 | elapsed:    0.0s finished\n",
      "Fitting 3 classifiers...\n",
      "Fitting classifier1: randomforestclassifier (1/3)\n",
      "[Parallel(n_jobs=1)]: Using backend SequentialBackend with 1 concurrent workers.\n",
      "[Parallel(n_jobs=-1)]: Using backend LokyBackend with 8 concurrent workers.\n",
      "[Parallel(n_jobs=-1)]: Done  52 tasks      | elapsed:    1.2s\n",
      "[Parallel(n_jobs=-1)]: Done 100 out of 100 | elapsed:    2.1s finished\n",
      "[Parallel(n_jobs=8)]: Using backend ThreadingBackend with 8 concurrent workers.\n",
      "[Parallel(n_jobs=8)]: Done  34 tasks      | elapsed:    0.0s\n",
      "[Parallel(n_jobs=8)]: Done 100 out of 100 | elapsed:    0.0s finished\n",
      "[Parallel(n_jobs=-1)]: Using backend LokyBackend with 8 concurrent workers.\n",
      "[Parallel(n_jobs=-1)]: Done  52 tasks      | elapsed:    1.2s\n",
      "[Parallel(n_jobs=-1)]: Done 100 out of 100 | elapsed:    2.0s finished\n",
      "[Parallel(n_jobs=8)]: Using backend ThreadingBackend with 8 concurrent workers.\n",
      "[Parallel(n_jobs=8)]: Done  34 tasks      | elapsed:    0.0s\n",
      "[Parallel(n_jobs=8)]: Done 100 out of 100 | elapsed:    0.0s finished\n",
      "[Parallel(n_jobs=1)]: Done   2 out of   2 | elapsed:    4.7s finished\n",
      "[Parallel(n_jobs=1)]: Using backend SequentialBackend with 1 concurrent workers.\n",
      "Fitting classifier2: gaussiannb (2/3)\n",
      "[Parallel(n_jobs=1)]: Done   2 out of   2 | elapsed:    0.1s finished\n",
      "[Parallel(n_jobs=1)]: Using backend SequentialBackend with 1 concurrent workers.\n",
      "[Parallel(n_jobs=-1)]: Using backend LokyBackend with 8 concurrent workers.\n",
      "Fitting classifier3: logisticregression (3/3)\n",
      "[Parallel(n_jobs=-1)]: Done   1 out of   1 | elapsed:    3.7s finished\n",
      "[Parallel(n_jobs=-1)]: Using backend LokyBackend with 8 concurrent workers.\n",
      "[Parallel(n_jobs=-1)]: Done   1 out of   1 | elapsed:    3.4s finished\n",
      "[Parallel(n_jobs=1)]: Done   2 out of   2 | elapsed:    7.2s finished\n",
      "[Parallel(n_jobs=-1)]: Using backend LokyBackend with 8 concurrent workers.\n",
      "[Parallel(n_jobs=-1)]: Done  34 tasks      | elapsed:    1.8s\n",
      "[Parallel(n_jobs=-1)]: Done 100 out of 100 | elapsed:    4.6s finished\n",
      "[Parallel(n_jobs=-1)]: Using backend LokyBackend with 8 concurrent workers.\n",
      "[Parallel(n_jobs=-1)]: Done   1 out of   1 | elapsed:    7.0s finished\n",
      "[Parallel(n_jobs=-1)]: Using backend LokyBackend with 8 concurrent workers.\n",
      "[Parallel(n_jobs=-1)]: Done   1 out of   1 | elapsed:    2.1s finished\n",
      "[Parallel(n_jobs=8)]: Using backend ThreadingBackend with 8 concurrent workers.\n",
      "[Parallel(n_jobs=8)]: Done  34 tasks      | elapsed:    0.0s\n",
      "[Parallel(n_jobs=8)]: Done 100 out of 100 | elapsed:    0.0s finished\n",
      "[Parallel(n_jobs=1)]: Using backend SequentialBackend with 1 concurrent workers.\n",
      "Fitting 3 classifiers...\n",
      "Fitting classifier1: randomforestclassifier (1/3)\n",
      "[Parallel(n_jobs=-1)]: Using backend LokyBackend with 8 concurrent workers.\n",
      "[Parallel(n_jobs=-1)]: Done  52 tasks      | elapsed:    1.1s\n",
      "[Parallel(n_jobs=-1)]: Done 100 out of 100 | elapsed:    1.9s finished\n",
      "[Parallel(n_jobs=8)]: Using backend ThreadingBackend with 8 concurrent workers.\n",
      "[Parallel(n_jobs=8)]: Done  34 tasks      | elapsed:    0.0s\n",
      "[Parallel(n_jobs=8)]: Done 100 out of 100 | elapsed:    0.0s finished\n",
      "[Parallel(n_jobs=-1)]: Using backend LokyBackend with 8 concurrent workers.\n",
      "[Parallel(n_jobs=-1)]: Done  52 tasks      | elapsed:    1.1s\n",
      "[Parallel(n_jobs=-1)]: Done 100 out of 100 | elapsed:    1.9s finished\n",
      "[Parallel(n_jobs=8)]: Using backend ThreadingBackend with 8 concurrent workers.\n",
      "[Parallel(n_jobs=8)]: Done  34 tasks      | elapsed:    0.0s\n",
      "[Parallel(n_jobs=8)]: Done 100 out of 100 | elapsed:    0.0s finished\n",
      "[Parallel(n_jobs=1)]: Done   2 out of   2 | elapsed:    4.3s finished\n",
      "[Parallel(n_jobs=1)]: Using backend SequentialBackend with 1 concurrent workers.\n",
      "Fitting classifier2: gaussiannb (2/3)\n",
      "[Parallel(n_jobs=1)]: Done   2 out of   2 | elapsed:    0.1s finished\n",
      "[Parallel(n_jobs=1)]: Using backend SequentialBackend with 1 concurrent workers.\n",
      "[Parallel(n_jobs=-1)]: Using backend LokyBackend with 8 concurrent workers.\n",
      "Fitting classifier3: logisticregression (3/3)\n",
      "[Parallel(n_jobs=-1)]: Done   1 out of   1 | elapsed:    4.2s finished\n",
      "[Parallel(n_jobs=-1)]: Using backend LokyBackend with 8 concurrent workers.\n",
      "[Parallel(n_jobs=-1)]: Done   1 out of   1 | elapsed:    3.5s finished\n",
      "[Parallel(n_jobs=1)]: Done   2 out of   2 | elapsed:    7.9s finished\n",
      "[Parallel(n_jobs=-1)]: Using backend LokyBackend with 8 concurrent workers.\n",
      "[Parallel(n_jobs=-1)]: Done  34 tasks      | elapsed:    1.7s\n",
      "[Parallel(n_jobs=-1)]: Done 100 out of 100 | elapsed:    4.8s finished\n",
      "[Parallel(n_jobs=-1)]: Using backend LokyBackend with 8 concurrent workers.\n",
      "[Parallel(n_jobs=-1)]: Done   1 out of   1 | elapsed:    9.5s finished\n",
      "[Parallel(n_jobs=-1)]: Using backend LokyBackend with 8 concurrent workers.\n",
      "[Parallel(n_jobs=-1)]: Done   1 out of   1 | elapsed:    2.8s finished\n",
      "[Parallel(n_jobs=8)]: Using backend ThreadingBackend with 8 concurrent workers.\n",
      "[Parallel(n_jobs=8)]: Done  34 tasks      | elapsed:    0.0s\n",
      "[Parallel(n_jobs=8)]: Done 100 out of 100 | elapsed:    0.0s finished\n",
      "[Parallel(n_jobs=1)]: Using backend SequentialBackend with 1 concurrent workers.\n",
      "Fitting 3 classifiers...\n",
      "Fitting classifier1: randomforestclassifier (1/3)\n",
      "[Parallel(n_jobs=-1)]: Using backend LokyBackend with 8 concurrent workers.\n",
      "[Parallel(n_jobs=-1)]: Done  52 tasks      | elapsed:    1.3s\n",
      "[Parallel(n_jobs=-1)]: Done 100 out of 100 | elapsed:    2.3s finished\n",
      "[Parallel(n_jobs=8)]: Using backend ThreadingBackend with 8 concurrent workers.\n",
      "[Parallel(n_jobs=8)]: Done  34 tasks      | elapsed:    0.0s\n",
      "[Parallel(n_jobs=8)]: Done 100 out of 100 | elapsed:    0.0s finished\n",
      "[Parallel(n_jobs=-1)]: Using backend LokyBackend with 8 concurrent workers.\n",
      "[Parallel(n_jobs=-1)]: Done  52 tasks      | elapsed:    1.2s\n",
      "[Parallel(n_jobs=-1)]: Done 100 out of 100 | elapsed:    2.1s finished\n",
      "[Parallel(n_jobs=8)]: Using backend ThreadingBackend with 8 concurrent workers.\n",
      "[Parallel(n_jobs=8)]: Done  34 tasks      | elapsed:    0.0s\n",
      "[Parallel(n_jobs=8)]: Done 100 out of 100 | elapsed:    0.0s finished\n",
      "[Parallel(n_jobs=1)]: Done   2 out of   2 | elapsed:    5.1s finished\n",
      "[Parallel(n_jobs=1)]: Using backend SequentialBackend with 1 concurrent workers.\n",
      "Fitting classifier2: gaussiannb (2/3)\n",
      "Fitting classifier3: logisticregression (3/3)\n",
      "[Parallel(n_jobs=1)]: Done   2 out of   2 | elapsed:    0.1s finished\n",
      "[Parallel(n_jobs=1)]: Using backend SequentialBackend with 1 concurrent workers.\n",
      "[Parallel(n_jobs=-1)]: Using backend LokyBackend with 8 concurrent workers.\n",
      "[Parallel(n_jobs=-1)]: Done   1 out of   1 | elapsed:    4.0s finished\n",
      "[Parallel(n_jobs=-1)]: Using backend LokyBackend with 8 concurrent workers.\n",
      "[Parallel(n_jobs=-1)]: Done   1 out of   1 | elapsed:    3.0s finished\n",
      "[Parallel(n_jobs=1)]: Done   2 out of   2 | elapsed:    7.1s finished\n",
      "[Parallel(n_jobs=-1)]: Using backend LokyBackend with 8 concurrent workers.\n",
      "[Parallel(n_jobs=-1)]: Done  34 tasks      | elapsed:    1.7s\n",
      "[Parallel(n_jobs=-1)]: Done 100 out of 100 | elapsed:    5.1s finished\n",
      "[Parallel(n_jobs=-1)]: Using backend LokyBackend with 8 concurrent workers.\n",
      "[Parallel(n_jobs=-1)]: Done   1 out of   1 | elapsed:    8.1s finished\n",
      "[Parallel(n_jobs=-1)]: Using backend LokyBackend with 8 concurrent workers.\n",
      "[Parallel(n_jobs=-1)]: Done   1 out of   1 | elapsed:    2.3s finished\n",
      "[Parallel(n_jobs=8)]: Using backend ThreadingBackend with 8 concurrent workers.\n",
      "[Parallel(n_jobs=8)]: Done  34 tasks      | elapsed:    0.0s\n",
      "[Parallel(n_jobs=8)]: Done 100 out of 100 | elapsed:    0.0s finished\n"
     ]
    },
    {
     "output_type": "execute_result",
     "data": {
      "text/plain": [
       "0.71325"
      ]
     },
     "metadata": {},
     "execution_count": 33
    }
   ],
   "source": [
    "cross_val_score(sclf,x,y).mean()"
   ]
  },
  {
   "cell_type": "code",
   "execution_count": 35,
   "metadata": {},
   "outputs": [
    {
     "output_type": "execute_result",
     "data": {
      "text/plain": [
       "0.6760249999999999"
      ]
     },
     "metadata": {},
     "execution_count": 35
    }
   ],
   "source": [
    "cross_val_score(AdaBoostClassifier(),x,y).mean()"
   ]
  },
  {
   "cell_type": "code",
   "execution_count": 36,
   "metadata": {},
   "outputs": [
    {
     "output_type": "execute_result",
     "data": {
      "text/plain": [
       "0.63335"
      ]
     },
     "metadata": {},
     "execution_count": 36
    }
   ],
   "source": [
    "cross_val_score(BaggingClassifier(c2),x,y).mean()"
   ]
  },
  {
   "cell_type": "code",
   "execution_count": 9,
   "metadata": {},
   "outputs": [
    {
     "output_type": "stream",
     "name": "stderr",
     "text": [
      "Converting...: 100%|██████████| 40000/40000 [00:49<00:00, 815.33it/s]\n"
     ]
    }
   ],
   "source": [
    "train_data = preprocess('recipe_train.csv', convert_to_seconds=True)#pd.read_csv('COMP30027_2021_Project2_datasets\\\\recipe_train.csv')\n",
    "train_data_100 = pd.read_csv('COMP30027_2021_Project2_datasets\\\\recipe_text_features_doc2vec100\\\\train_steps_doc2vec100.csv',header=None, names = ['coord'+str(i) for i in range(100)])\n",
    "train = pd.concat([train_data,train_data_100],axis=1)\n",
    "y100 = train['duration_label']\n",
    "x100 = train.drop(['name','steps','ingredients','duration_label'], axis=1)"
   ]
  },
  {
   "cell_type": "code",
   "execution_count": 10,
   "metadata": {},
   "outputs": [],
   "source": [
    "train = train.dropna()\n",
    "y100 = train['duration_label']\n",
    "x100 = train.drop(['name','steps','ingredients','duration_label'], axis=1)"
   ]
  },
  {
   "cell_type": "code",
   "execution_count": 12,
   "metadata": {},
   "outputs": [
    {
     "output_type": "stream",
     "name": "stderr",
     "text": [
      "[Parallel(n_jobs=-1)]: Using backend LokyBackend with 8 concurrent workers.\n",
      "[Parallel(n_jobs=-1)]: Done  34 tasks      | elapsed:    2.6s\n",
      "[Parallel(n_jobs=-1)]: Done 100 out of 100 | elapsed:    4.2s finished\n",
      "[Parallel(n_jobs=8)]: Using backend ThreadingBackend with 8 concurrent workers.\n",
      "[Parallel(n_jobs=8)]: Done  34 tasks      | elapsed:    0.0s\n",
      "[Parallel(n_jobs=8)]: Done 100 out of 100 | elapsed:    0.0s finished\n",
      "[Parallel(n_jobs=-1)]: Using backend LokyBackend with 8 concurrent workers.\n",
      "[Parallel(n_jobs=-1)]: Done  52 tasks      | elapsed:    1.4s\n",
      "[Parallel(n_jobs=-1)]: Done 100 out of 100 | elapsed:    2.3s finished\n",
      "[Parallel(n_jobs=8)]: Using backend ThreadingBackend with 8 concurrent workers.\n",
      "[Parallel(n_jobs=8)]: Done  34 tasks      | elapsed:    0.0s\n",
      "[Parallel(n_jobs=8)]: Done 100 out of 100 | elapsed:    0.0s finished\n",
      "[Parallel(n_jobs=-1)]: Using backend LokyBackend with 8 concurrent workers.\n",
      "[Parallel(n_jobs=-1)]: Done  34 tasks      | elapsed:    2.2s\n",
      "[Parallel(n_jobs=-1)]: Done 100 out of 100 | elapsed:    5.9s finished\n",
      "[Parallel(n_jobs=8)]: Using backend ThreadingBackend with 8 concurrent workers.\n",
      "[Parallel(n_jobs=8)]: Done  34 tasks      | elapsed:    0.0s\n",
      "[Parallel(n_jobs=8)]: Done 100 out of 100 | elapsed:    0.0s finished\n",
      "[Parallel(n_jobs=-1)]: Using backend LokyBackend with 8 concurrent workers.\n",
      "[Parallel(n_jobs=-1)]: Done  34 tasks      | elapsed:    1.0s\n",
      "[Parallel(n_jobs=-1)]: Done 100 out of 100 | elapsed:    2.6s finished\n",
      "[Parallel(n_jobs=8)]: Using backend ThreadingBackend with 8 concurrent workers.\n",
      "[Parallel(n_jobs=8)]: Done  34 tasks      | elapsed:    0.0s\n",
      "[Parallel(n_jobs=8)]: Done 100 out of 100 | elapsed:    0.0s finished\n",
      "[Parallel(n_jobs=-1)]: Using backend LokyBackend with 8 concurrent workers.\n",
      "[Parallel(n_jobs=-1)]: Done  34 tasks      | elapsed:    0.9s\n",
      "[Parallel(n_jobs=-1)]: Done 100 out of 100 | elapsed:    2.5s finished\n",
      "[Parallel(n_jobs=8)]: Using backend ThreadingBackend with 8 concurrent workers.\n",
      "[Parallel(n_jobs=8)]: Done  34 tasks      | elapsed:    0.0s\n",
      "[Parallel(n_jobs=8)]: Done 100 out of 100 | elapsed:    0.0s finished\n",
      "[Parallel(n_jobs=-1)]: Using backend LokyBackend with 8 concurrent workers.\n",
      "[Parallel(n_jobs=-1)]: Done  34 tasks      | elapsed:    2.1s\n",
      "[Parallel(n_jobs=-1)]: Done 100 out of 100 | elapsed:    6.0s finished\n",
      "[Parallel(n_jobs=8)]: Using backend ThreadingBackend with 8 concurrent workers.\n",
      "[Parallel(n_jobs=8)]: Done  34 tasks      | elapsed:    0.0s\n",
      "[Parallel(n_jobs=8)]: Done 100 out of 100 | elapsed:    0.0s finished\n",
      "[Parallel(n_jobs=-1)]: Using backend LokyBackend with 8 concurrent workers.\n",
      "[Parallel(n_jobs=-1)]: Done  52 tasks      | elapsed:    1.4s\n",
      "[Parallel(n_jobs=-1)]: Done 100 out of 100 | elapsed:    2.3s finished\n",
      "[Parallel(n_jobs=8)]: Using backend ThreadingBackend with 8 concurrent workers.\n",
      "[Parallel(n_jobs=8)]: Done  34 tasks      | elapsed:    0.0s\n",
      "[Parallel(n_jobs=8)]: Done 100 out of 100 | elapsed:    0.0s finished\n",
      "[Parallel(n_jobs=-1)]: Using backend LokyBackend with 8 concurrent workers.\n",
      "[Parallel(n_jobs=-1)]: Done  52 tasks      | elapsed:    1.4s\n",
      "[Parallel(n_jobs=-1)]: Done 100 out of 100 | elapsed:    2.4s finished\n",
      "[Parallel(n_jobs=8)]: Using backend ThreadingBackend with 8 concurrent workers.\n",
      "[Parallel(n_jobs=8)]: Done  34 tasks      | elapsed:    0.0s\n",
      "[Parallel(n_jobs=8)]: Done 100 out of 100 | elapsed:    0.0s finished\n",
      "[Parallel(n_jobs=-1)]: Using backend LokyBackend with 8 concurrent workers.\n",
      "[Parallel(n_jobs=-1)]: Done  34 tasks      | elapsed:    2.1s\n",
      "[Parallel(n_jobs=-1)]: Done 100 out of 100 | elapsed:    6.2s finished\n",
      "[Parallel(n_jobs=8)]: Using backend ThreadingBackend with 8 concurrent workers.\n",
      "[Parallel(n_jobs=8)]: Done  34 tasks      | elapsed:    0.0s\n",
      "[Parallel(n_jobs=8)]: Done 100 out of 100 | elapsed:    0.0s finished\n",
      "[Parallel(n_jobs=-1)]: Using backend LokyBackend with 8 concurrent workers.\n",
      "[Parallel(n_jobs=-1)]: Done  52 tasks      | elapsed:    1.4s\n",
      "[Parallel(n_jobs=-1)]: Done 100 out of 100 | elapsed:    2.3s finished\n",
      "[Parallel(n_jobs=8)]: Using backend ThreadingBackend with 8 concurrent workers.\n",
      "[Parallel(n_jobs=8)]: Done  34 tasks      | elapsed:    0.0s\n",
      "[Parallel(n_jobs=8)]: Done 100 out of 100 | elapsed:    0.0s finished\n",
      "[Parallel(n_jobs=-1)]: Using backend LokyBackend with 8 concurrent workers.\n",
      "[Parallel(n_jobs=-1)]: Done  52 tasks      | elapsed:    1.4s\n",
      "[Parallel(n_jobs=-1)]: Done 100 out of 100 | elapsed:    2.4s finished\n",
      "[Parallel(n_jobs=8)]: Using backend ThreadingBackend with 8 concurrent workers.\n",
      "[Parallel(n_jobs=8)]: Done  34 tasks      | elapsed:    0.0s\n",
      "[Parallel(n_jobs=8)]: Done 100 out of 100 | elapsed:    0.0s finished\n",
      "[Parallel(n_jobs=-1)]: Using backend LokyBackend with 8 concurrent workers.\n",
      "[Parallel(n_jobs=-1)]: Done  34 tasks      | elapsed:    2.1s\n",
      "[Parallel(n_jobs=-1)]: Done 100 out of 100 | elapsed:    5.6s finished\n",
      "[Parallel(n_jobs=8)]: Using backend ThreadingBackend with 8 concurrent workers.\n",
      "[Parallel(n_jobs=8)]: Done  34 tasks      | elapsed:    0.0s\n",
      "[Parallel(n_jobs=8)]: Done 100 out of 100 | elapsed:    0.0s finished\n",
      "[Parallel(n_jobs=-1)]: Using backend LokyBackend with 8 concurrent workers.\n",
      "[Parallel(n_jobs=-1)]: Done  52 tasks      | elapsed:    1.3s\n",
      "[Parallel(n_jobs=-1)]: Done 100 out of 100 | elapsed:    2.3s finished\n",
      "[Parallel(n_jobs=8)]: Using backend ThreadingBackend with 8 concurrent workers.\n",
      "[Parallel(n_jobs=8)]: Done  34 tasks      | elapsed:    0.0s\n",
      "[Parallel(n_jobs=8)]: Done 100 out of 100 | elapsed:    0.0s finished\n",
      "[Parallel(n_jobs=-1)]: Using backend LokyBackend with 8 concurrent workers.\n",
      "[Parallel(n_jobs=-1)]: Done  52 tasks      | elapsed:    1.5s\n",
      "[Parallel(n_jobs=-1)]: Done 100 out of 100 | elapsed:    2.5s finished\n",
      "[Parallel(n_jobs=8)]: Using backend ThreadingBackend with 8 concurrent workers.\n",
      "[Parallel(n_jobs=8)]: Done  34 tasks      | elapsed:    0.0s\n",
      "[Parallel(n_jobs=8)]: Done 100 out of 100 | elapsed:    0.0s finished\n",
      "[Parallel(n_jobs=-1)]: Using backend LokyBackend with 8 concurrent workers.\n",
      "[Parallel(n_jobs=-1)]: Done  34 tasks      | elapsed:    2.1s\n",
      "[Parallel(n_jobs=-1)]: Done 100 out of 100 | elapsed:    5.6s finished\n",
      "0.7659421488751451\n",
      "Process takes  232.69554495811462 seconds\n",
      "[Parallel(n_jobs=8)]: Using backend ThreadingBackend with 8 concurrent workers.\n",
      "[Parallel(n_jobs=8)]: Done  34 tasks      | elapsed:    0.0s\n",
      "[Parallel(n_jobs=8)]: Done 100 out of 100 | elapsed:    0.0s finished\n"
     ]
    }
   ],
   "source": [
    "start = time.time()\n",
    "print(cross_val_score(sclf,x100,y100).mean())\n",
    "print('Process takes ',time.time()-start, 'seconds')"
   ]
  },
  {
   "cell_type": "code",
   "execution_count": 13,
   "metadata": {},
   "outputs": [
    {
     "output_type": "execute_result",
     "data": {
      "text/plain": [
       "0.7294058455715811"
      ]
     },
     "metadata": {},
     "execution_count": 13
    }
   ],
   "source": [
    "start = time.time()\n",
    "print(cross_val_score(SVC(),x100,y100).mean())\n",
    "print('Process takes ',time.time()-start, 'seconds')"
   ]
  },
  {
   "cell_type": "code",
   "execution_count": 15,
   "metadata": {},
   "outputs": [
    {
     "output_type": "stream",
     "name": "stdout",
     "text": [
      "0.5699892538439091\nProcess takes  0.5106613636016846 seconds\n"
     ]
    }
   ],
   "source": [
    "start = time.time()\n",
    "print(cross_val_score(GaussianNB(),x100,y100).mean())\n",
    "print('Process takes ',time.time()-start, 'seconds')"
   ]
  },
  {
   "cell_type": "code",
   "execution_count": 16,
   "metadata": {},
   "outputs": [
    {
     "output_type": "stream",
     "name": "stdout",
     "text": [
      "0.6779986540110515\nProcess takes  29.413482666015625 seconds\n"
     ]
    }
   ],
   "source": [
    "start = time.time()\n",
    "print(cross_val_score(DecisionTreeClassifier(),x100,y100).mean())\n",
    "print('Process takes ',time.time()-start, 'seconds')"
   ]
  },
  {
   "cell_type": "code",
   "execution_count": 17,
   "metadata": {},
   "outputs": [
    {
     "output_type": "stream",
     "name": "stderr",
     "text": [
      "C:\\Users\\HP OMEN 15\\AppData\\Local\\Programs\\Python\\Python36\\lib\\site-packages\\sklearn\\linear_model\\_logistic.py:940: ConvergenceWarning: lbfgs failed to converge (status=1):\n",
      "STOP: TOTAL NO. of ITERATIONS REACHED LIMIT.\n",
      "\n",
      "Increase the number of iterations (max_iter) or scale the data as shown in:\n",
      "    https://scikit-learn.org/stable/modules/preprocessing.html\n",
      "Please also refer to the documentation for alternative solver options:\n",
      "    https://scikit-learn.org/stable/modules/linear_model.html#logistic-regression\n",
      "  extra_warning_msg=_LOGISTIC_SOLVER_CONVERGENCE_MSG)\n",
      "C:\\Users\\HP OMEN 15\\AppData\\Local\\Programs\\Python\\Python36\\lib\\site-packages\\sklearn\\linear_model\\_logistic.py:940: ConvergenceWarning: lbfgs failed to converge (status=1):\n",
      "STOP: TOTAL NO. of ITERATIONS REACHED LIMIT.\n",
      "\n",
      "Increase the number of iterations (max_iter) or scale the data as shown in:\n",
      "    https://scikit-learn.org/stable/modules/preprocessing.html\n",
      "Please also refer to the documentation for alternative solver options:\n",
      "    https://scikit-learn.org/stable/modules/linear_model.html#logistic-regression\n",
      "  extra_warning_msg=_LOGISTIC_SOLVER_CONVERGENCE_MSG)\n",
      "C:\\Users\\HP OMEN 15\\AppData\\Local\\Programs\\Python\\Python36\\lib\\site-packages\\sklearn\\linear_model\\_logistic.py:940: ConvergenceWarning: lbfgs failed to converge (status=1):\n",
      "STOP: TOTAL NO. of ITERATIONS REACHED LIMIT.\n",
      "\n",
      "Increase the number of iterations (max_iter) or scale the data as shown in:\n",
      "    https://scikit-learn.org/stable/modules/preprocessing.html\n",
      "Please also refer to the documentation for alternative solver options:\n",
      "    https://scikit-learn.org/stable/modules/linear_model.html#logistic-regression\n",
      "  extra_warning_msg=_LOGISTIC_SOLVER_CONVERGENCE_MSG)\n",
      "C:\\Users\\HP OMEN 15\\AppData\\Local\\Programs\\Python\\Python36\\lib\\site-packages\\sklearn\\linear_model\\_logistic.py:940: ConvergenceWarning: lbfgs failed to converge (status=1):\n",
      "STOP: TOTAL NO. of ITERATIONS REACHED LIMIT.\n",
      "\n",
      "Increase the number of iterations (max_iter) or scale the data as shown in:\n",
      "    https://scikit-learn.org/stable/modules/preprocessing.html\n",
      "Please also refer to the documentation for alternative solver options:\n",
      "    https://scikit-learn.org/stable/modules/linear_model.html#logistic-regression\n",
      "  extra_warning_msg=_LOGISTIC_SOLVER_CONVERGENCE_MSG)\n",
      "0.6738312460346634\n",
      "Process takes  7.028547763824463 seconds\n",
      "C:\\Users\\HP OMEN 15\\AppData\\Local\\Programs\\Python\\Python36\\lib\\site-packages\\sklearn\\linear_model\\_logistic.py:940: ConvergenceWarning: lbfgs failed to converge (status=1):\n",
      "STOP: TOTAL NO. of ITERATIONS REACHED LIMIT.\n",
      "\n",
      "Increase the number of iterations (max_iter) or scale the data as shown in:\n",
      "    https://scikit-learn.org/stable/modules/preprocessing.html\n",
      "Please also refer to the documentation for alternative solver options:\n",
      "    https://scikit-learn.org/stable/modules/linear_model.html#logistic-regression\n",
      "  extra_warning_msg=_LOGISTIC_SOLVER_CONVERGENCE_MSG)\n"
     ]
    }
   ],
   "source": [
    "start = time.time()\n",
    "print(cross_val_score(LogisticRegression(max_iter=10000),x100,y100).mean())\n",
    "print('Process takes ',time.time()-start, 'seconds')"
   ]
  },
  {
   "cell_type": "code",
   "execution_count": 18,
   "metadata": {},
   "outputs": [
    {
     "output_type": "stream",
     "name": "stdout",
     "text": [
      "0.7441915533184241\nProcess takes  138.90527200698853 seconds\n"
     ]
    }
   ],
   "source": [
    "start = time.time()\n",
    "print(cross_val_score(RandomForestClassifier(),x100,y100).mean())\n",
    "print('Process takes ',time.time()-start, 'seconds')"
   ]
  },
  {
   "cell_type": "code",
   "execution_count": 19,
   "metadata": {},
   "outputs": [
    {
     "output_type": "stream",
     "name": "stdout",
     "text": [
      "0.7364848804798234\nProcess takes  91.97082996368408 seconds\n"
     ]
    }
   ],
   "source": [
    "start = time.time()\n",
    "print(cross_val_score(AdaBoostClassifier(),x100,y100).mean())\n",
    "print('Process takes ',time.time()-start, 'seconds')"
   ]
  },
  {
   "cell_type": "code",
   "execution_count": 21,
   "metadata": {},
   "outputs": [
    {
     "output_type": "stream",
     "name": "stdout",
     "text": [
      "0.7552663885195186\nProcess takes  12.221656560897827 seconds\n"
     ]
    }
   ],
   "source": [
    "start = time.time()\n",
    "print(cross_val_score(KNeighborsClassifier(),x100,y100).mean())\n",
    "print('Process takes ',time.time()-start, 'seconds')"
   ]
  },
  {
   "cell_type": "code",
   "execution_count": 20,
   "metadata": {},
   "outputs": [
    {
     "output_type": "stream",
     "name": "stdout",
     "text": [
      "0.7482447571595648\nProcess takes  179.22210359573364 seconds\n"
     ]
    }
   ],
   "source": [
    "start = time.time()\n",
    "print(cross_val_score(BaggingClassifier(DecisionTreeClassifier()),x100,y100).mean())\n",
    "print('Process takes ',time.time()-start, 'seconds')"
   ]
  },
  {
   "cell_type": "code",
   "execution_count": 22,
   "metadata": {},
   "outputs": [
    {
     "output_type": "stream",
     "name": "stdout",
     "text": [
      "0.7566651080659482\nProcess takes  114.75170159339905 seconds\n"
     ]
    }
   ],
   "source": [
    "start = time.time()\n",
    "print(cross_val_score(BaggingClassifier(KNeighborsClassifier()),x100,y100).mean())\n",
    "print('Process takes ',time.time()-start, 'seconds')"
   ]
  },
  {
   "cell_type": "code",
   "execution_count": 23,
   "metadata": {},
   "outputs": [
    {
     "output_type": "stream",
     "name": "stdout",
     "text": [
      "0.7290062410979176\nProcess takes  3350.5638234615326 seconds\n"
     ]
    }
   ],
   "source": [
    "start = time.time()\n",
    "print(cross_val_score(BaggingClassifier(SVC()),x100,y100).mean())\n",
    "print('Process takes ',time.time()-start, 'seconds')"
   ]
  },
  {
   "cell_type": "code",
   "execution_count": 34,
   "metadata": {},
   "outputs": [
    {
     "output_type": "stream",
     "name": "stdout",
     "text": [
      "Process takes  3129.6548767089844 seconds\n{'n_neighbors': 38}\n"
     ]
    },
    {
     "output_type": "execute_result",
     "data": {
      "text/plain": [
       "0.7703660191201482"
      ]
     },
     "metadata": {},
     "execution_count": 34
    }
   ],
   "source": [
    "from sklearn.model_selection import GridSearchCV,RandomizedSearchCV\n",
    "start = time.time()\n",
    "param_grid = {'n_neighbors': np.arange(38, 238)}\n",
    "rcv = GridSearchCV(KNeighborsClassifier(),param_grid, cv=5)\n",
    "rcv.fit(x100,y100)\n",
    "print('Process takes ',time.time()-start, 'seconds')\n",
    "print(rcv.best_params_)\n",
    "rcv.best_score_"
   ]
  },
  {
   "cell_type": "code",
   "execution_count": 47,
   "metadata": {},
   "outputs": [
    {
     "output_type": "stream",
     "name": "stdout",
     "text": [
      "0.7675407625166687\nProcess takes  425.40338587760925 seconds\n"
     ]
    }
   ],
   "source": [
    "start = time.time()\n",
    "c1 = RandomForestClassifier(n_estimators=100,min_samples_split=50,min_samples_leaf=1, criterion='gini', n_jobs=-1)\n",
    "c2 = GaussianNB()\n",
    "c3 = LogisticRegression(solver='lbfgs', multi_class='multinomial', max_iter=1000, n_jobs=-1)\n",
    "lr = LogisticRegression(solver='lbfgs', multi_class='multinomial', max_iter=1000, n_jobs=-1)\n",
    "\n",
    "sclf = StackingCVClassifier(classifiers=[c1,c2,c3],\n",
    "                            meta_classifier=lr, use_probas=True)\n",
    "\n",
    "start = time.time()\n",
    "print(cross_val_score(sclf,x100,y100, cv = 10).mean())\n",
    "print('Process takes ',time.time()-start, 'seconds')"
   ]
  },
  {
   "cell_type": "code",
   "execution_count": 37,
   "metadata": {},
   "outputs": [
    {
     "output_type": "stream",
     "name": "stdout",
     "text": [
      "0.7761890203919485\nProcess takes  291.49292397499084 seconds\n"
     ]
    }
   ],
   "source": [
    "start = time.time()\n",
    "c1 = RandomForestClassifier(n_estimators=100,min_samples_split=50,min_samples_leaf=1, criterion='gini', n_jobs=-1)\n",
    "c2 = AdaBoostClassifier()\n",
    "c3 = KNeighborsClassifier(n_neighbors=38)\n",
    "lr = LogisticRegression(solver='lbfgs', multi_class='multinomial', max_iter=1000, n_jobs=-1)\n",
    "\n",
    "sclf = StackingCVClassifier(classifiers=[c1,c2,c3],\n",
    "                            meta_classifier=lr, use_probas=True)\n",
    "\n",
    "start = time.time()\n",
    "print(cross_val_score(sclf,x100,y100).mean())\n",
    "print('Process takes ',time.time()-start, 'seconds')"
   ]
  },
  {
   "cell_type": "code",
   "execution_count": 43,
   "metadata": {},
   "outputs": [
    {
     "output_type": "stream",
     "name": "stdout",
     "text": [
      "0.7817265968809544\nProcess takes  246.60619163513184 seconds\n"
     ]
    }
   ],
   "source": [
    "start = time.time()\n",
    "c1 = RandomForestClassifier(n_estimators=100,min_samples_split=50,min_samples_leaf=1, criterion='gini', n_jobs=-1)\n",
    "c2 = LogisticRegression(solver='lbfgs', multi_class='multinomial', max_iter=1000, n_jobs=-1)\n",
    "c3 = KNeighborsClassifier(n_neighbors=38)\n",
    "lr = LogisticRegression(solver='lbfgs', multi_class='multinomial', max_iter=1000, n_jobs=-1)\n",
    "\n",
    "sclf = StackingCVClassifier(classifiers=[c1,c2,c3],\n",
    "                            meta_classifier=lr, use_probas=True)\n",
    "\n",
    "start = time.time()\n",
    "print(cross_val_score(sclf,x100,y100).mean())\n",
    "print('Process takes ',time.time()-start, 'seconds')"
   ]
  },
  {
   "cell_type": "code",
   "execution_count": 28,
   "metadata": {},
   "outputs": [
    {
     "output_type": "stream",
     "name": "stdout",
     "text": [
      "0.7719644451629282\nProcess takes  267.93580436706543 seconds\n"
     ]
    }
   ],
   "source": [
    "start = time.time()\n",
    "c1 = RandomForestClassifier(n_estimators=100,min_samples_split=50,min_samples_leaf=1, criterion='gini', n_jobs=-1)\n",
    "c2 = AdaBoostClassifier()\n",
    "c3 = KNeighborsClassifier(n_neighbors=21)\n",
    "lr = KNeighborsClassifier(n_neighbors=21)\n",
    "\n",
    "sclf = StackingCVClassifier(classifiers=[c1,c2,c3],\n",
    "                            meta_classifier=lr, use_probas=True)\n",
    "\n",
    "start = time.time()\n",
    "print(cross_val_score(sclf,x100,y100).mean())\n",
    "print('Process takes ',time.time()-start, 'seconds')"
   ]
  },
  {
   "cell_type": "code",
   "execution_count": 29,
   "metadata": {},
   "outputs": [
    {
     "output_type": "stream",
     "name": "stdout",
     "text": [
      "0.7517270543982342\nProcess takes  276.2685396671295 seconds\n"
     ]
    }
   ],
   "source": [
    "start = time.time()\n",
    "c1 = RandomForestClassifier(n_estimators=100,min_samples_split=50,min_samples_leaf=1, criterion='gini', n_jobs=-1)\n",
    "c2 = AdaBoostClassifier()\n",
    "c3 = KNeighborsClassifier(n_neighbors=21)\n",
    "lr = BaggingClassifier(DecisionTreeClassifier())\n",
    "\n",
    "sclf = StackingCVClassifier(classifiers=[c1,c2,c3],\n",
    "                            meta_classifier=lr, use_probas=True)\n",
    "\n",
    "start = time.time()\n",
    "print(cross_val_score(sclf,x100,y100).mean())\n",
    "print('Process takes ',time.time()-start, 'seconds')"
   ]
  },
  {
   "cell_type": "code",
   "execution_count": 30,
   "metadata": {},
   "outputs": [
    {
     "output_type": "stream",
     "name": "stdout",
     "text": [
      "0.7691672342175991\nProcess takes  571.7859828472137 seconds\n"
     ]
    }
   ],
   "source": [
    "start = time.time()\n",
    "c1 = RandomForestClassifier(n_estimators=100,min_samples_split=50,min_samples_leaf=1, criterion='gini', n_jobs=-1)\n",
    "c2 = AdaBoostClassifier()\n",
    "lr = KNeighborsClassifier(n_neighbors=21)\n",
    "c3 = BaggingClassifier(DecisionTreeClassifier())\n",
    "\n",
    "sclf = StackingCVClassifier(classifiers=[c1,c2,c3],\n",
    "                            meta_classifier=lr, use_probas=True)\n",
    "\n",
    "start = time.time()\n",
    "print(cross_val_score(sclf,x100,y100).mean())\n",
    "print('Process takes ',time.time()-start, 'seconds')"
   ]
  },
  {
   "cell_type": "code",
   "execution_count": 35,
   "metadata": {},
   "outputs": [
    {
     "output_type": "stream",
     "name": "stdout",
     "text": [
      "0.7753612074479902\nProcess takes  333.37484431266785 seconds\n"
     ]
    }
   ],
   "source": [
    "start = time.time()\n",
    "c1 = RandomForestClassifier(n_estimators=100,min_samples_split=50,min_samples_leaf=1, criterion='gini', n_jobs=-1)\n",
    "c2 = AdaBoostClassifier()\n",
    "c3 = KNeighborsClassifier(n_neighbors=38)\n",
    "c4 = KNeighborsClassifier(n_neighbors=38)\n",
    "lr = LogisticRegression(solver='lbfgs', multi_class='multinomial', max_iter=1000, n_jobs=-1)\n",
    "\n",
    "sclf = StackingCVClassifier(classifiers=[c1,c2,c3,c4],\n",
    "                            meta_classifier=lr, use_probas=True)\n",
    "\n",
    "start = time.time()\n",
    "print(cross_val_score(sclf,x100,y100).mean())\n",
    "print('Process takes ',time.time()-start, 'seconds')"
   ]
  },
  {
   "cell_type": "code",
   "execution_count": 36,
   "metadata": {},
   "outputs": [
    {
     "output_type": "stream",
     "name": "stdout",
     "text": [
      "0.7763602899282521\nProcess takes  352.87842202186584 seconds\n"
     ]
    }
   ],
   "source": [
    "start = time.time()\n",
    "c1 = RandomForestClassifier(n_estimators=100,min_samples_split=50,min_samples_leaf=1, criterion='gini', n_jobs=-1)\n",
    "c2 = AdaBoostClassifier()\n",
    "c3 = KNeighborsClassifier(n_neighbors=38)\n",
    "c4 = DecisionTreeClassifier()\n",
    "lr = LogisticRegression(solver='lbfgs', multi_class='multinomial', max_iter=1000, n_jobs=-1)\n",
    "\n",
    "sclf = StackingCVClassifier(classifiers=[c1,c2,c3,c4],\n",
    "                            meta_classifier=lr, use_probas=True)\n",
    "\n",
    "start = time.time()\n",
    "print(cross_val_score(sclf,x100,y100).mean())\n",
    "print('Process takes ',time.time()-start, 'seconds')"
   ]
  },
  {
   "cell_type": "code",
   "execution_count": 46,
   "metadata": {},
   "outputs": [
    {
     "output_type": "stream",
     "name": "stderr",
     "text": [
      "Converting...: 100%|██████████| 10000/10000 [00:11<00:00, 834.87it/s]\n"
     ]
    }
   ],
   "source": [
    "from sklearn.experimental import enable_iterative_imputer\n",
    "from sklearn.impute import IterativeImputer, SimpleImputer\n",
    "\n",
    "test_data = preprocess('recipe_test.csv', convert_to_seconds=True)#pd.read_csv('COMP30027_2021_Project2_datasets\\\\recipe_train.csv')\n",
    "test_data_100 = pd.read_csv('COMP30027_2021_Project2_datasets\\\\recipe_text_features_doc2vec100\\\\test_steps_doc2vec100.csv',header=None, names = ['coord'+str(i) for i in range(100)])\n",
    "test = pd.concat([test_data,test_data_100],axis=1)\n",
    "x100test = test.drop(['name','steps','ingredients'], axis=1)\n",
    "\n",
    "imp = SimpleImputer(missing_values=np.nan, strategy='mean')\n",
    "imp.fit(x100)\n",
    "\n",
    "x100test = imp.transform(x100test)\n",
    "\n",
    "c1 = RandomForestClassifier(n_estimators=100,min_samples_split=50,min_samples_leaf=1, criterion='gini', n_jobs=-1)\n",
    "c2 = GaussianNB()#KNeighborsClassifier(n_neighbors=38)\n",
    "c3 = LogisticRegression(solver='lbfgs', multi_class='multinomial', max_iter=1000, n_jobs=-1)\n",
    "lr = LogisticRegression(solver='lbfgs', multi_class='multinomial', max_iter=1000, n_jobs=-1)\n",
    "\n",
    "sclf = StackingCVClassifier(classifiers=[c1,c2,c3],\n",
    "                            meta_classifier=lr, use_probas=True)\n",
    "\n",
    "sclf.fit(x100,y100)\n",
    "Y_test = sclf.predict(x100test)\n",
    "\n",
    "out = pd.DataFrame({'duration_label':Y_test})\n",
    "out.index += 1\n",
    "out.to_csv('output/out_'+'randomforest_gaussiannb_logisticreg'+'.csv',index_label = 'id')"
   ]
  },
  {
   "cell_type": "code",
   "execution_count": 59,
   "metadata": {},
   "outputs": [
    {
     "output_type": "execute_result",
     "data": {
      "text/plain": [
       "       n_steps  n_ingredients  duration_label  seconds    coord0    coord1  \\\n",
       "0            6             12             2.0   2400.0 -0.038488 -0.061193   \n",
       "1            9              5             2.0   1620.0 -0.346682  0.818242   \n",
       "2           15             10             2.0   2100.0 -0.161517 -0.046478   \n",
       "3           10              8             2.0   2400.0 -0.149138 -0.435168   \n",
       "4            6              5             2.0   3600.0 -0.104086  0.423679   \n",
       "...        ...            ...             ...      ...       ...       ...   \n",
       "39995        6             13             1.0   5400.0  0.447364  0.079168   \n",
       "39996       15             16             2.0   4530.0  0.382064  0.291208   \n",
       "39997        5              8             1.0   3600.0 -0.308860  0.984259   \n",
       "39998        7             17             2.0   4020.0  0.106077  0.089861   \n",
       "39999        6             11             2.0   3300.0 -0.056758 -0.837425   \n",
       "\n",
       "         coord2    coord3    coord4    coord5  ...   coord90   coord91  \\\n",
       "0      0.185614  0.108549 -0.544672 -0.346892  ... -0.046046 -1.237815   \n",
       "1     -1.485725 -0.136444 -0.839452 -0.028747  ... -0.050925 -0.754784   \n",
       "2     -0.469720  0.856473  0.254552  0.963018  ...  0.728282 -0.297418   \n",
       "3      0.398795  0.162542  0.062735 -0.489047  ... -0.898283  0.477606   \n",
       "4     -0.432812 -0.721857 -0.464891  0.179705  ...  0.156563  0.106496   \n",
       "...         ...       ...       ...       ...  ...       ...       ...   \n",
       "39995 -0.056656 -0.241829 -0.448888 -0.198237  ...  0.189909  0.501349   \n",
       "39996 -0.504445 -1.015946  0.255569  0.833729  ...  0.744043  0.949267   \n",
       "39997 -0.456285 -0.245439 -0.331528 -0.854780  ...  0.026969 -0.494188   \n",
       "39998 -0.463742 -0.865867 -0.432115  1.221770  ... -0.135346 -0.725684   \n",
       "39999 -0.340891 -1.094857  0.201363 -0.600995  ... -0.156918  0.756255   \n",
       "\n",
       "        coord92   coord93   coord94   coord95   coord96   coord97   coord98  \\\n",
       "0      0.337203 -0.478054  0.325911  0.956001 -0.016299  0.047190 -1.078757   \n",
       "1     -0.414631 -1.401076  0.140092 -0.593359  0.859226  0.172982 -0.032898   \n",
       "2     -0.316859 -0.140749  0.103697  0.744142 -0.445749 -0.235873  0.653200   \n",
       "3     -0.352423 -0.607715  0.917631  0.211922  0.168028 -0.274200 -0.593518   \n",
       "4     -0.449400 -0.177187  0.419978 -0.673034  1.046548 -0.431546 -0.109882   \n",
       "...         ...       ...       ...       ...       ...       ...       ...   \n",
       "39995  0.219873  0.338590  0.204403  0.633901  0.202228  0.268780 -0.752346   \n",
       "39996  0.921160 -0.920896 -0.010590 -0.737633 -1.056501  0.675061 -0.850657   \n",
       "39997 -0.725943 -0.377076 -0.228925 -0.092484  0.429468 -0.036762 -0.291253   \n",
       "39998  0.501711 -0.143399 -0.341598 -0.770968  0.342341  0.140158 -0.511545   \n",
       "39999  0.537982 -0.006668  0.034585 -0.272654  0.274754  0.119002 -0.561982   \n",
       "\n",
       "        coord99  \n",
       "0     -0.603840  \n",
       "1     -0.066318  \n",
       "2     -0.108352  \n",
       "3     -0.655954  \n",
       "4      0.228147  \n",
       "...         ...  \n",
       "39995 -0.585481  \n",
       "39996 -0.424602  \n",
       "39997  0.279832  \n",
       "39998 -0.937076  \n",
       "39999 -0.298799  \n",
       "\n",
       "[35115 rows x 104 columns]"
      ],
      "text/html": "<div>\n<style scoped>\n    .dataframe tbody tr th:only-of-type {\n        vertical-align: middle;\n    }\n\n    .dataframe tbody tr th {\n        vertical-align: top;\n    }\n\n    .dataframe thead th {\n        text-align: right;\n    }\n</style>\n<table border=\"1\" class=\"dataframe\">\n  <thead>\n    <tr style=\"text-align: right;\">\n      <th></th>\n      <th>n_steps</th>\n      <th>n_ingredients</th>\n      <th>duration_label</th>\n      <th>seconds</th>\n      <th>coord0</th>\n      <th>coord1</th>\n      <th>coord2</th>\n      <th>coord3</th>\n      <th>coord4</th>\n      <th>coord5</th>\n      <th>...</th>\n      <th>coord90</th>\n      <th>coord91</th>\n      <th>coord92</th>\n      <th>coord93</th>\n      <th>coord94</th>\n      <th>coord95</th>\n      <th>coord96</th>\n      <th>coord97</th>\n      <th>coord98</th>\n      <th>coord99</th>\n    </tr>\n  </thead>\n  <tbody>\n    <tr>\n      <th>0</th>\n      <td>6</td>\n      <td>12</td>\n      <td>2.0</td>\n      <td>2400.0</td>\n      <td>-0.038488</td>\n      <td>-0.061193</td>\n      <td>0.185614</td>\n      <td>0.108549</td>\n      <td>-0.544672</td>\n      <td>-0.346892</td>\n      <td>...</td>\n      <td>-0.046046</td>\n      <td>-1.237815</td>\n      <td>0.337203</td>\n      <td>-0.478054</td>\n      <td>0.325911</td>\n      <td>0.956001</td>\n      <td>-0.016299</td>\n      <td>0.047190</td>\n      <td>-1.078757</td>\n      <td>-0.603840</td>\n    </tr>\n    <tr>\n      <th>1</th>\n      <td>9</td>\n      <td>5</td>\n      <td>2.0</td>\n      <td>1620.0</td>\n      <td>-0.346682</td>\n      <td>0.818242</td>\n      <td>-1.485725</td>\n      <td>-0.136444</td>\n      <td>-0.839452</td>\n      <td>-0.028747</td>\n      <td>...</td>\n      <td>-0.050925</td>\n      <td>-0.754784</td>\n      <td>-0.414631</td>\n      <td>-1.401076</td>\n      <td>0.140092</td>\n      <td>-0.593359</td>\n      <td>0.859226</td>\n      <td>0.172982</td>\n      <td>-0.032898</td>\n      <td>-0.066318</td>\n    </tr>\n    <tr>\n      <th>2</th>\n      <td>15</td>\n      <td>10</td>\n      <td>2.0</td>\n      <td>2100.0</td>\n      <td>-0.161517</td>\n      <td>-0.046478</td>\n      <td>-0.469720</td>\n      <td>0.856473</td>\n      <td>0.254552</td>\n      <td>0.963018</td>\n      <td>...</td>\n      <td>0.728282</td>\n      <td>-0.297418</td>\n      <td>-0.316859</td>\n      <td>-0.140749</td>\n      <td>0.103697</td>\n      <td>0.744142</td>\n      <td>-0.445749</td>\n      <td>-0.235873</td>\n      <td>0.653200</td>\n      <td>-0.108352</td>\n    </tr>\n    <tr>\n      <th>3</th>\n      <td>10</td>\n      <td>8</td>\n      <td>2.0</td>\n      <td>2400.0</td>\n      <td>-0.149138</td>\n      <td>-0.435168</td>\n      <td>0.398795</td>\n      <td>0.162542</td>\n      <td>0.062735</td>\n      <td>-0.489047</td>\n      <td>...</td>\n      <td>-0.898283</td>\n      <td>0.477606</td>\n      <td>-0.352423</td>\n      <td>-0.607715</td>\n      <td>0.917631</td>\n      <td>0.211922</td>\n      <td>0.168028</td>\n      <td>-0.274200</td>\n      <td>-0.593518</td>\n      <td>-0.655954</td>\n    </tr>\n    <tr>\n      <th>4</th>\n      <td>6</td>\n      <td>5</td>\n      <td>2.0</td>\n      <td>3600.0</td>\n      <td>-0.104086</td>\n      <td>0.423679</td>\n      <td>-0.432812</td>\n      <td>-0.721857</td>\n      <td>-0.464891</td>\n      <td>0.179705</td>\n      <td>...</td>\n      <td>0.156563</td>\n      <td>0.106496</td>\n      <td>-0.449400</td>\n      <td>-0.177187</td>\n      <td>0.419978</td>\n      <td>-0.673034</td>\n      <td>1.046548</td>\n      <td>-0.431546</td>\n      <td>-0.109882</td>\n      <td>0.228147</td>\n    </tr>\n    <tr>\n      <th>...</th>\n      <td>...</td>\n      <td>...</td>\n      <td>...</td>\n      <td>...</td>\n      <td>...</td>\n      <td>...</td>\n      <td>...</td>\n      <td>...</td>\n      <td>...</td>\n      <td>...</td>\n      <td>...</td>\n      <td>...</td>\n      <td>...</td>\n      <td>...</td>\n      <td>...</td>\n      <td>...</td>\n      <td>...</td>\n      <td>...</td>\n      <td>...</td>\n      <td>...</td>\n      <td>...</td>\n    </tr>\n    <tr>\n      <th>39995</th>\n      <td>6</td>\n      <td>13</td>\n      <td>1.0</td>\n      <td>5400.0</td>\n      <td>0.447364</td>\n      <td>0.079168</td>\n      <td>-0.056656</td>\n      <td>-0.241829</td>\n      <td>-0.448888</td>\n      <td>-0.198237</td>\n      <td>...</td>\n      <td>0.189909</td>\n      <td>0.501349</td>\n      <td>0.219873</td>\n      <td>0.338590</td>\n      <td>0.204403</td>\n      <td>0.633901</td>\n      <td>0.202228</td>\n      <td>0.268780</td>\n      <td>-0.752346</td>\n      <td>-0.585481</td>\n    </tr>\n    <tr>\n      <th>39996</th>\n      <td>15</td>\n      <td>16</td>\n      <td>2.0</td>\n      <td>4530.0</td>\n      <td>0.382064</td>\n      <td>0.291208</td>\n      <td>-0.504445</td>\n      <td>-1.015946</td>\n      <td>0.255569</td>\n      <td>0.833729</td>\n      <td>...</td>\n      <td>0.744043</td>\n      <td>0.949267</td>\n      <td>0.921160</td>\n      <td>-0.920896</td>\n      <td>-0.010590</td>\n      <td>-0.737633</td>\n      <td>-1.056501</td>\n      <td>0.675061</td>\n      <td>-0.850657</td>\n      <td>-0.424602</td>\n    </tr>\n    <tr>\n      <th>39997</th>\n      <td>5</td>\n      <td>8</td>\n      <td>1.0</td>\n      <td>3600.0</td>\n      <td>-0.308860</td>\n      <td>0.984259</td>\n      <td>-0.456285</td>\n      <td>-0.245439</td>\n      <td>-0.331528</td>\n      <td>-0.854780</td>\n      <td>...</td>\n      <td>0.026969</td>\n      <td>-0.494188</td>\n      <td>-0.725943</td>\n      <td>-0.377076</td>\n      <td>-0.228925</td>\n      <td>-0.092484</td>\n      <td>0.429468</td>\n      <td>-0.036762</td>\n      <td>-0.291253</td>\n      <td>0.279832</td>\n    </tr>\n    <tr>\n      <th>39998</th>\n      <td>7</td>\n      <td>17</td>\n      <td>2.0</td>\n      <td>4020.0</td>\n      <td>0.106077</td>\n      <td>0.089861</td>\n      <td>-0.463742</td>\n      <td>-0.865867</td>\n      <td>-0.432115</td>\n      <td>1.221770</td>\n      <td>...</td>\n      <td>-0.135346</td>\n      <td>-0.725684</td>\n      <td>0.501711</td>\n      <td>-0.143399</td>\n      <td>-0.341598</td>\n      <td>-0.770968</td>\n      <td>0.342341</td>\n      <td>0.140158</td>\n      <td>-0.511545</td>\n      <td>-0.937076</td>\n    </tr>\n    <tr>\n      <th>39999</th>\n      <td>6</td>\n      <td>11</td>\n      <td>2.0</td>\n      <td>3300.0</td>\n      <td>-0.056758</td>\n      <td>-0.837425</td>\n      <td>-0.340891</td>\n      <td>-1.094857</td>\n      <td>0.201363</td>\n      <td>-0.600995</td>\n      <td>...</td>\n      <td>-0.156918</td>\n      <td>0.756255</td>\n      <td>0.537982</td>\n      <td>-0.006668</td>\n      <td>0.034585</td>\n      <td>-0.272654</td>\n      <td>0.274754</td>\n      <td>0.119002</td>\n      <td>-0.561982</td>\n      <td>-0.298799</td>\n    </tr>\n  </tbody>\n</table>\n<p>35115 rows × 104 columns</p>\n</div>"
     },
     "metadata": {},
     "execution_count": 59
    }
   ],
   "source": [
    "x100test"
   ]
  }
 ]
}